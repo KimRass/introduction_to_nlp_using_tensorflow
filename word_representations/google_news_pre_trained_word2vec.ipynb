{
 "cells": [
  {
   "cell_type": "markdown",
   "metadata": {
    "id": "rtOgJrxcmgn3",
    "toc": true
   },
   "source": [
    "<h1>Table of Contents<span class=\"tocSkip\"></span></h1>\n",
    "<div class=\"toc\"><ul class=\"toc-item\"></ul></div>"
   ]
  },
  {
   "cell_type": "code",
   "execution_count": 1,
   "metadata": {
    "ExecuteTime": {
     "end_time": "2022-01-28T06:47:39.461922Z",
     "start_time": "2022-01-28T06:47:36.007853Z"
    },
    "colab": {
     "base_uri": "https://localhost:8080/"
    },
    "id": "oNTRDLsF5_A1",
    "outputId": "ee65a7ee-213c-44bb-b134-a22fa77020e6"
   },
   "outputs": [
    {
     "name": "stderr",
     "output_type": "stream",
     "text": [
      "[nltk_data] Downloading package punkt to\n",
      "[nltk_data]     C:\\Users\\82104\\AppData\\Roaming\\nltk_data...\n",
      "[nltk_data]   Package punkt is already up-to-date!\n"
     ]
    },
    {
     "data": {
      "text/plain": [
       "True"
      ]
     },
     "execution_count": 1,
     "metadata": {},
     "output_type": "execute_result"
    }
   ],
   "source": [
    "import nltk\n",
    "import urllib\n",
    "from lxml import etree\n",
    "import re\n",
    "from nltk.tokenize import sent_tokenize, word_tokenize\n",
    "from tqdm.auto import tqdm\n",
    "import json\n",
    "import os\n",
    "import sys\n",
    "import gensim\n",
    "\n",
    "nltk.download(\"punkt\")"
   ]
  },
  {
   "cell_type": "code",
   "execution_count": 6,
   "metadata": {
    "ExecuteTime": {
     "end_time": "2022-01-28T06:48:23.047788Z",
     "start_time": "2022-01-28T06:48:23.035893Z"
    }
   },
   "outputs": [],
   "source": [
    "url = \"https://s3.amazonaws.com/dl4j-distribution/GoogleNews-vectors-negative300.bin.gz\"\n",
    "filename = \"D:/GoogleNews-vectors-negative300.bin.gz\"\n",
    "if not os.path.exists(filename):\n",
    "    urllib.request.urlretrieve(url=url, filename=filename)"
   ]
  },
  {
   "cell_type": "code",
   "execution_count": 8,
   "metadata": {
    "ExecuteTime": {
     "end_time": "2022-01-28T06:49:58.963611Z",
     "start_time": "2022-01-28T06:48:29.886047Z"
    }
   },
   "outputs": [],
   "source": [
    "model = gensim.models.KeyedVectors.load_word2vec_format(filename, binary=True)"
   ]
  },
  {
   "cell_type": "code",
   "execution_count": 9,
   "metadata": {
    "ExecuteTime": {
     "end_time": "2022-01-28T06:52:26.470610Z",
     "start_time": "2022-01-28T06:52:26.423733Z"
    },
    "colab": {
     "base_uri": "https://localhost:8080/",
     "height": 34
    },
    "id": "Lq1EENY_ESaQ",
    "outputId": "c38a01b1-38e2-4f74-a864-1b4eb744eb11"
   },
   "outputs": [
    {
     "name": "stdout",
     "output_type": "stream",
     "text": [
      "(3000000, 300)\n"
     ]
    }
   ],
   "source": [
    "print(model.vectors.shape) # 모델의 크기 확인"
   ]
  },
  {
   "cell_type": "code",
   "execution_count": null,
   "metadata": {
    "id": "u1tTd77XETPg"
   },
   "outputs": [],
   "source": [
    "#단어 집합 크기의 행과 300개의 열을 가지는 행렬 생성. 값은 전부 0으로 채워진다.\n",
    "emb_mat = np.zeros((vocab_size+1, 300))"
   ]
  },
  {
   "cell_type": "code",
   "execution_count": null,
   "metadata": {
    "id": "TBci3LruEUUu"
   },
   "outputs": [],
   "source": [
    "def get_vector(word):\n",
    "    if word in model:\n",
    "        return model[word]\n",
    "    else:\n",
    "        return None"
   ]
  },
  {
   "cell_type": "code",
   "execution_count": null,
   "metadata": {
    "id": "CEf4RNJ25_Bh",
    "outputId": "fcd62cbb-820a-4d90-9189-9c6ab67294b1"
   },
   "outputs": [
    {
     "name": "stdout",
     "output_type": "stream",
     "text": [
      "{'nice': 1, 'great': 2, 'best': 3, 'amazing': 4, 'stop': 5, 'lies': 6, 'pitiful': 7, 'nerd': 8, 'excellent': 9, 'work': 10, 'supreme': 11, 'quality': 12, 'bad': 13, 'highly': 14, 'respectable': 15}\n"
     ]
    }
   ],
   "source": [
    "print(tkn.word_index)"
   ]
  },
  {
   "cell_type": "code",
   "execution_count": null,
   "metadata": {
    "id": "cnIoFroj5_Bi"
   },
   "outputs": [],
   "source": [
    "for word, idx in tkn.word_index.items():\n",
    "    try:\n",
    "        emb_mat[idx] = model[word]\n",
    "    except:\n",
    "        continue"
   ]
  },
  {
   "cell_type": "code",
   "execution_count": null,
   "metadata": {
    "id": "X7Hl1Ies5_Bi",
    "outputId": "c7e79d88-c127-42fb-acc6-dc19ae4b7ff0"
   },
   "outputs": [
    {
     "data": {
      "text/plain": [
       "array([ 0.174,  0.173,  0.113,  0.166,  0.059, -0.014,  0.129, -0.218,\n",
       "        0.074,  0.205, -0.097, -0.011, -0.032,  0.064, -0.054,  0.116,\n",
       "        0.215,  0.116, -0.108,  0.021,  0.124,  0.079, -0.244,  0.119,\n",
       "        0.219, -0.142, -0.093,  0.099,  0.132, -0.012,  0.057,  0.124,\n",
       "        0.118,  0.512,  0.046, -0.021,  0.017,  0.109,  0.117,  0.085,\n",
       "        0.17 , -0.246,  0.129, -0.045, -0.004, -0.149,  0.237,  0.12 ,\n",
       "       -0.157, -0.024, -0.047,  0.188,  0.008,  0.307, -0.101,  0.099,\n",
       "       -0.266, -0.357,  0.059, -0.021,  0.012,  0.06 ,  0.234, -0.018,\n",
       "        0.002, -0.042,  0.188,  0.025, -0.076, -0.029, -0.021, -0.058,\n",
       "       -0.047,  0.17 ,  0.046, -0.132,  0.033,  0.018,  0.147, -0.107,\n",
       "       -0.108,  0.04 ,  0.068, -0.095,  0.157, -0.234, -0.038,  0.053,\n",
       "       -0.074, -0.021, -0.055, -0.226,  0.033, -0.044,  0.004, -0.041,\n",
       "       -0.134,  0.046, -0.096, -0.242,  0.165,  0.204,  0.086, -0.086,\n",
       "       -0.112,  0.224, -0.164, -0.083, -0.034,  0.035,  0.158,  0.134,\n",
       "       -0.21 ,  0.445,  0.342, -0.122, -0.113,  0.11 ,  0.207, -0.204,\n",
       "       -0.011,  0.059, -0.084, -0.021,  0.016,  0.297,  0.104, -0.328,\n",
       "        0.13 ,  0.011,  0.035,  0.223, -0.181,  0.016,  0.031, -0.018,\n",
       "       -0.07 , -0.061,  0.143,  0.062,  0.141, -0.104,  0.059, -0.092,\n",
       "       -0.134,  0.003, -0.238, -0.118,  0.056,  0.143,  0.138,  0.229,\n",
       "       -0.18 ,  0.139, -0.013,  0.044, -0.065, -0.105,  0.207, -0.163,\n",
       "       -0.081, -0.182,  0.303, -0.159, -0.153, -0.295,  0.175, -0.056,\n",
       "        0.041,  0.105, -0.215, -0.071,  0.065,  0.05 , -0.124, -0.119,\n",
       "       -0.048, -0.252, -0.018, -0.132, -0.229,  0.04 , -0.11 , -0.367,\n",
       "       -0.111,  0.256,  0.037,  0.024, -0.022,  0.195, -0.009,  0.449,\n",
       "        0.053,  0.049,  0.099, -0.197,  0.003, -0.06 , -0.014, -0.169,\n",
       "       -0.169,  0.189, -0.219, -0.027, -0.08 , -0.118,  0.053,  0.047,\n",
       "       -0.023,  0.078, -0.098,  0.031,  0.102, -0.202, -0.301, -0.108,\n",
       "       -0.092, -0.163,  0.011,  0.134,  0.052, -0.041,  0.275,  0.147,\n",
       "       -0.022,  0.029,  0.189,  0.205, -0.086,  0.197, -0.21 , -0.25 ,\n",
       "       -0.118,  0.293,  0.165,  0.03 ,  0.069,  0.147, -0.02 ,  0.195,\n",
       "       -0.256, -0.254,  0.381, -0.014,  0.021, -0.071, -0.041, -0.215,\n",
       "        0.192, -0.094,  0.099,  0.188, -0.044,  0.207,  0.303, -0.196,\n",
       "       -0.223,  0.098,  0.111,  0.139,  0.234, -0.021, -0.064, -0.029,\n",
       "        0.224, -0.047,  0.01 , -0.026,  0.066,  0.053, -0.033,  0.307,\n",
       "       -0.184, -0.106, -0.096, -0.125, -0.344, -0.367, -0.314,  0.277,\n",
       "       -0.045,  0.024,  0.239, -0.031,  0.085,  0.035, -0.023,  0.044,\n",
       "        0.089,  0.217,  0.141, -0.222, -0.056,  0.034, -0.12 , -0.082,\n",
       "        0.121, -0.164, -0.128,  0.098], dtype=float32)"
      ]
     },
     "execution_count": 162,
     "metadata": {
      "tags": []
     },
     "output_type": "execute_result"
    }
   ],
   "source": [
    "model[\"supreme\"]"
   ]
  },
  {
   "cell_type": "code",
   "execution_count": null,
   "metadata": {
    "colab": {
     "base_uri": "https://localhost:8080/",
     "height": 34
    },
    "id": "lV_9jIh7EXHH",
    "outputId": "280279d9-4084-46bd-ef79-400eca5997db"
   },
   "outputs": [
    {
     "data": {
      "text/plain": [
       "array([ 0.174,  0.173,  0.113,  0.166,  0.059, -0.014,  0.129, -0.218,\n",
       "        0.074,  0.205, -0.097, -0.011, -0.032,  0.064, -0.054,  0.116,\n",
       "        0.215,  0.116, -0.108,  0.021,  0.124,  0.079, -0.244,  0.119,\n",
       "        0.219, -0.142, -0.093,  0.099,  0.132, -0.012,  0.057,  0.124,\n",
       "        0.118,  0.512,  0.046, -0.021,  0.017,  0.109,  0.117,  0.085,\n",
       "        0.17 , -0.246,  0.129, -0.045, -0.004, -0.149,  0.237,  0.12 ,\n",
       "       -0.157, -0.024, -0.047,  0.188,  0.008,  0.307, -0.101,  0.099,\n",
       "       -0.266, -0.357,  0.059, -0.021,  0.012,  0.06 ,  0.234, -0.018,\n",
       "        0.002, -0.042,  0.188,  0.025, -0.076, -0.029, -0.021, -0.058,\n",
       "       -0.047,  0.17 ,  0.046, -0.132,  0.033,  0.018,  0.147, -0.107,\n",
       "       -0.108,  0.04 ,  0.068, -0.095,  0.157, -0.234, -0.038,  0.053,\n",
       "       -0.074, -0.021, -0.055, -0.226,  0.033, -0.044,  0.004, -0.041,\n",
       "       -0.134,  0.046, -0.096, -0.242,  0.165,  0.204,  0.086, -0.086,\n",
       "       -0.112,  0.224, -0.164, -0.083, -0.034,  0.035,  0.158,  0.134,\n",
       "       -0.21 ,  0.445,  0.342, -0.122, -0.113,  0.11 ,  0.207, -0.204,\n",
       "       -0.011,  0.059, -0.084, -0.021,  0.016,  0.297,  0.104, -0.328,\n",
       "        0.13 ,  0.011,  0.035,  0.223, -0.181,  0.016,  0.031, -0.018,\n",
       "       -0.07 , -0.061,  0.143,  0.062,  0.141, -0.104,  0.059, -0.092,\n",
       "       -0.134,  0.003, -0.238, -0.118,  0.056,  0.143,  0.138,  0.229,\n",
       "       -0.18 ,  0.139, -0.013,  0.044, -0.065, -0.105,  0.207, -0.163,\n",
       "       -0.081, -0.182,  0.303, -0.159, -0.153, -0.295,  0.175, -0.056,\n",
       "        0.041,  0.105, -0.215, -0.071,  0.065,  0.05 , -0.124, -0.119,\n",
       "       -0.048, -0.252, -0.018, -0.132, -0.229,  0.04 , -0.11 , -0.367,\n",
       "       -0.111,  0.256,  0.037,  0.024, -0.022,  0.195, -0.009,  0.449,\n",
       "        0.053,  0.049,  0.099, -0.197,  0.003, -0.06 , -0.014, -0.169,\n",
       "       -0.169,  0.189, -0.219, -0.027, -0.08 , -0.118,  0.053,  0.047,\n",
       "       -0.023,  0.078, -0.098,  0.031,  0.102, -0.202, -0.301, -0.108,\n",
       "       -0.092, -0.163,  0.011,  0.134,  0.052, -0.041,  0.275,  0.147,\n",
       "       -0.022,  0.029,  0.189,  0.205, -0.086,  0.197, -0.21 , -0.25 ,\n",
       "       -0.118,  0.293,  0.165,  0.03 ,  0.069,  0.147, -0.02 ,  0.195,\n",
       "       -0.256, -0.254,  0.381, -0.014,  0.021, -0.071, -0.041, -0.215,\n",
       "        0.192, -0.094,  0.099,  0.188, -0.044,  0.207,  0.303, -0.196,\n",
       "       -0.223,  0.098,  0.111,  0.139,  0.234, -0.021, -0.064, -0.029,\n",
       "        0.224, -0.047,  0.01 , -0.026,  0.066,  0.053, -0.033,  0.307,\n",
       "       -0.184, -0.106, -0.096, -0.125, -0.344, -0.367, -0.314,  0.277,\n",
       "       -0.045,  0.024,  0.239, -0.031,  0.085,  0.035, -0.023,  0.044,\n",
       "        0.089,  0.217,  0.141, -0.222, -0.056,  0.034, -0.12 , -0.082,\n",
       "        0.121, -0.164, -0.128,  0.098])"
      ]
     },
     "execution_count": 164,
     "metadata": {
      "tags": []
     },
     "output_type": "execute_result"
    }
   ],
   "source": [
    "emb_mat[11]"
   ]
  },
  {
   "cell_type": "code",
   "execution_count": null,
   "metadata": {},
   "outputs": [],
   "source": [
    "inputs = Input()\n",
    "\n",
    "z = Embedding(input_length=max_len, input_dim=vocab_size + 1, output_dim=300, weights=[emb_mat], trainable=False)(inputs)\n",
    "z = Flatten()(z)\n",
    "\n",
    "outputs = Dense(units=1, activation=\"sigmoid\")(z)\n",
    "\n",
    "model = Model(inputs=inputs, outputs=outputs)\n",
    "model.summary()"
   ]
  },
  {
   "cell_type": "code",
   "execution_count": null,
   "metadata": {},
   "outputs": [],
   "source": [
    "model.compie(optimizer=\"adam\", loss=\"binary_crossentropy\", metrics=[\"acc\"])\n",
    "\n",
    "model.fit()"
   ]
  },
  {
   "cell_type": "code",
   "execution_count": null,
   "metadata": {
    "colab": {
     "base_uri": "https://localhost:8080/",
     "height": 1000
    },
    "id": "_WrcCmuuEYk_",
    "outputId": "7114d568-2b6b-4ace-e61d-5761434b1615"
   },
   "outputs": [
    {
     "name": "stdout",
     "output_type": "stream",
     "text": [
      "Epoch 1/100\n",
      "1/1 - 0s - loss: 0.7204 - binary_accuracy: 0.2857\n",
      "Epoch 2/100\n",
      "1/1 - 0s - loss: 0.7013 - binary_accuracy: 0.2857\n",
      "Epoch 3/100\n",
      "1/1 - 0s - loss: 0.6827 - binary_accuracy: 0.5714\n",
      "Epoch 4/100\n",
      "1/1 - 0s - loss: 0.6646 - binary_accuracy: 0.7143\n",
      "Epoch 5/100\n",
      "1/1 - 0s - loss: 0.6471 - binary_accuracy: 0.7143\n",
      "Epoch 6/100\n",
      "1/1 - 0s - loss: 0.6302 - binary_accuracy: 0.8571\n",
      "Epoch 7/100\n",
      "1/1 - 0s - loss: 0.6138 - binary_accuracy: 0.8571\n",
      "Epoch 8/100\n",
      "1/1 - 0s - loss: 0.5979 - binary_accuracy: 1.0000\n",
      "Epoch 9/100\n",
      "1/1 - 0s - loss: 0.5825 - binary_accuracy: 1.0000\n",
      "Epoch 10/100\n",
      "1/1 - 0s - loss: 0.5677 - binary_accuracy: 1.0000\n",
      "Epoch 11/100\n",
      "1/1 - 0s - loss: 0.5533 - binary_accuracy: 1.0000\n",
      "Epoch 12/100\n",
      "1/1 - 0s - loss: 0.5394 - binary_accuracy: 1.0000\n",
      "Epoch 13/100\n",
      "1/1 - 0s - loss: 0.5260 - binary_accuracy: 1.0000\n",
      "Epoch 14/100\n",
      "1/1 - 0s - loss: 0.5131 - binary_accuracy: 1.0000\n",
      "Epoch 15/100\n",
      "1/1 - 0s - loss: 0.5006 - binary_accuracy: 1.0000\n",
      "Epoch 16/100\n",
      "1/1 - 0s - loss: 0.4885 - binary_accuracy: 1.0000\n",
      "Epoch 17/100\n",
      "1/1 - 0s - loss: 0.4768 - binary_accuracy: 1.0000\n",
      "Epoch 18/100\n",
      "1/1 - 0s - loss: 0.4655 - binary_accuracy: 1.0000\n",
      "Epoch 19/100\n",
      "1/1 - 0s - loss: 0.4545 - binary_accuracy: 1.0000\n",
      "Epoch 20/100\n",
      "1/1 - 0s - loss: 0.4439 - binary_accuracy: 1.0000\n",
      "Epoch 21/100\n",
      "1/1 - 0s - loss: 0.4337 - binary_accuracy: 1.0000\n",
      "Epoch 22/100\n",
      "1/1 - 0s - loss: 0.4237 - binary_accuracy: 1.0000\n",
      "Epoch 23/100\n",
      "1/1 - 0s - loss: 0.4141 - binary_accuracy: 1.0000\n",
      "Epoch 24/100\n",
      "1/1 - 0s - loss: 0.4048 - binary_accuracy: 1.0000\n",
      "Epoch 25/100\n",
      "1/1 - 0s - loss: 0.3958 - binary_accuracy: 1.0000\n",
      "Epoch 26/100\n",
      "1/1 - 0s - loss: 0.3870 - binary_accuracy: 1.0000\n",
      "Epoch 27/100\n",
      "1/1 - 0s - loss: 0.3785 - binary_accuracy: 1.0000\n",
      "Epoch 28/100\n",
      "1/1 - 0s - loss: 0.3703 - binary_accuracy: 1.0000\n",
      "Epoch 29/100\n",
      "1/1 - 0s - loss: 0.3623 - binary_accuracy: 1.0000\n",
      "Epoch 30/100\n",
      "1/1 - 0s - loss: 0.3546 - binary_accuracy: 1.0000\n",
      "Epoch 31/100\n",
      "1/1 - 0s - loss: 0.3470 - binary_accuracy: 1.0000\n",
      "Epoch 32/100\n",
      "1/1 - 0s - loss: 0.3398 - binary_accuracy: 1.0000\n",
      "Epoch 33/100\n",
      "1/1 - 0s - loss: 0.3327 - binary_accuracy: 1.0000\n",
      "Epoch 34/100\n",
      "1/1 - 0s - loss: 0.3258 - binary_accuracy: 1.0000\n",
      "Epoch 35/100\n",
      "1/1 - 0s - loss: 0.3191 - binary_accuracy: 1.0000\n",
      "Epoch 36/100\n",
      "1/1 - 0s - loss: 0.3127 - binary_accuracy: 1.0000\n",
      "Epoch 37/100\n",
      "1/1 - 0s - loss: 0.3064 - binary_accuracy: 1.0000\n",
      "Epoch 38/100\n",
      "1/1 - 0s - loss: 0.3003 - binary_accuracy: 1.0000\n",
      "Epoch 39/100\n",
      "1/1 - 0s - loss: 0.2943 - binary_accuracy: 1.0000\n",
      "Epoch 40/100\n",
      "1/1 - 0s - loss: 0.2886 - binary_accuracy: 1.0000\n",
      "Epoch 41/100\n",
      "1/1 - 0s - loss: 0.2830 - binary_accuracy: 1.0000\n",
      "Epoch 42/100\n",
      "1/1 - 0s - loss: 0.2775 - binary_accuracy: 1.0000\n",
      "Epoch 43/100\n",
      "1/1 - 0s - loss: 0.2722 - binary_accuracy: 1.0000\n",
      "Epoch 44/100\n",
      "1/1 - 0s - loss: 0.2671 - binary_accuracy: 1.0000\n",
      "Epoch 45/100\n",
      "1/1 - 0s - loss: 0.2621 - binary_accuracy: 1.0000\n",
      "Epoch 46/100\n",
      "1/1 - 0s - loss: 0.2572 - binary_accuracy: 1.0000\n",
      "Epoch 47/100\n",
      "1/1 - 0s - loss: 0.2524 - binary_accuracy: 1.0000\n",
      "Epoch 48/100\n",
      "1/1 - 0s - loss: 0.2478 - binary_accuracy: 1.0000\n",
      "Epoch 49/100\n",
      "1/1 - 0s - loss: 0.2434 - binary_accuracy: 1.0000\n",
      "Epoch 50/100\n",
      "1/1 - 0s - loss: 0.2390 - binary_accuracy: 1.0000\n",
      "Epoch 51/100\n",
      "1/1 - 0s - loss: 0.2347 - binary_accuracy: 1.0000\n",
      "Epoch 52/100\n",
      "1/1 - 0s - loss: 0.2306 - binary_accuracy: 1.0000\n",
      "Epoch 53/100\n",
      "1/1 - 0s - loss: 0.2266 - binary_accuracy: 1.0000\n",
      "Epoch 54/100\n",
      "1/1 - 0s - loss: 0.2227 - binary_accuracy: 1.0000\n",
      "Epoch 55/100\n",
      "1/1 - 0s - loss: 0.2188 - binary_accuracy: 1.0000\n",
      "Epoch 56/100\n",
      "1/1 - 0s - loss: 0.2151 - binary_accuracy: 1.0000\n",
      "Epoch 57/100\n",
      "1/1 - 0s - loss: 0.2115 - binary_accuracy: 1.0000\n",
      "Epoch 58/100\n",
      "1/1 - 0s - loss: 0.2080 - binary_accuracy: 1.0000\n",
      "Epoch 59/100\n",
      "1/1 - 0s - loss: 0.2045 - binary_accuracy: 1.0000\n",
      "Epoch 60/100\n",
      "1/1 - 0s - loss: 0.2012 - binary_accuracy: 1.0000\n",
      "Epoch 61/100\n",
      "1/1 - 0s - loss: 0.1979 - binary_accuracy: 1.0000\n",
      "Epoch 62/100\n",
      "1/1 - 0s - loss: 0.1947 - binary_accuracy: 1.0000\n",
      "Epoch 63/100\n",
      "1/1 - 0s - loss: 0.1916 - binary_accuracy: 1.0000\n",
      "Epoch 64/100\n",
      "1/1 - 0s - loss: 0.1885 - binary_accuracy: 1.0000\n",
      "Epoch 65/100\n",
      "1/1 - 0s - loss: 0.1856 - binary_accuracy: 1.0000\n",
      "Epoch 66/100\n",
      "1/1 - 0s - loss: 0.1827 - binary_accuracy: 1.0000\n",
      "Epoch 67/100\n",
      "1/1 - 0s - loss: 0.1798 - binary_accuracy: 1.0000\n",
      "Epoch 68/100\n",
      "1/1 - 0s - loss: 0.1771 - binary_accuracy: 1.0000\n",
      "Epoch 69/100\n",
      "1/1 - 0s - loss: 0.1744 - binary_accuracy: 1.0000\n",
      "Epoch 70/100\n",
      "1/1 - 0s - loss: 0.1718 - binary_accuracy: 1.0000\n",
      "Epoch 71/100\n",
      "1/1 - 0s - loss: 0.1692 - binary_accuracy: 1.0000\n",
      "Epoch 72/100\n",
      "1/1 - 0s - loss: 0.1667 - binary_accuracy: 1.0000\n",
      "Epoch 73/100\n",
      "1/1 - 0s - loss: 0.1642 - binary_accuracy: 1.0000\n",
      "Epoch 74/100\n",
      "1/1 - 0s - loss: 0.1618 - binary_accuracy: 1.0000\n",
      "Epoch 75/100\n",
      "1/1 - 0s - loss: 0.1595 - binary_accuracy: 1.0000\n",
      "Epoch 76/100\n",
      "1/1 - 0s - loss: 0.1572 - binary_accuracy: 1.0000\n",
      "Epoch 77/100\n",
      "1/1 - 0s - loss: 0.1549 - binary_accuracy: 1.0000\n",
      "Epoch 78/100\n",
      "1/1 - 0s - loss: 0.1528 - binary_accuracy: 1.0000\n",
      "Epoch 79/100\n",
      "1/1 - 0s - loss: 0.1506 - binary_accuracy: 1.0000\n",
      "Epoch 80/100\n",
      "1/1 - 0s - loss: 0.1485 - binary_accuracy: 1.0000\n",
      "Epoch 81/100\n",
      "1/1 - 0s - loss: 0.1465 - binary_accuracy: 1.0000\n",
      "Epoch 82/100\n",
      "1/1 - 0s - loss: 0.1445 - binary_accuracy: 1.0000\n",
      "Epoch 83/100\n",
      "1/1 - 0s - loss: 0.1425 - binary_accuracy: 1.0000\n",
      "Epoch 84/100\n",
      "1/1 - 0s - loss: 0.1406 - binary_accuracy: 1.0000\n",
      "Epoch 85/100\n",
      "1/1 - 0s - loss: 0.1387 - binary_accuracy: 1.0000\n",
      "Epoch 86/100\n",
      "1/1 - 0s - loss: 0.1368 - binary_accuracy: 1.0000\n",
      "Epoch 87/100\n",
      "1/1 - 0s - loss: 0.1350 - binary_accuracy: 1.0000\n",
      "Epoch 88/100\n",
      "1/1 - 0s - loss: 0.1333 - binary_accuracy: 1.0000\n",
      "Epoch 89/100\n",
      "1/1 - 0s - loss: 0.1315 - binary_accuracy: 1.0000\n",
      "Epoch 90/100\n",
      "1/1 - 0s - loss: 0.1298 - binary_accuracy: 1.0000\n",
      "Epoch 91/100\n",
      "1/1 - 0s - loss: 0.1282 - binary_accuracy: 1.0000\n",
      "Epoch 92/100\n",
      "1/1 - 0s - loss: 0.1266 - binary_accuracy: 1.0000\n",
      "Epoch 93/100\n",
      "1/1 - 0s - loss: 0.1250 - binary_accuracy: 1.0000\n",
      "Epoch 94/100\n",
      "1/1 - 0s - loss: 0.1234 - binary_accuracy: 1.0000\n",
      "Epoch 95/100\n",
      "1/1 - 0s - loss: 0.1219 - binary_accuracy: 1.0000\n",
      "Epoch 96/100\n",
      "1/1 - 0s - loss: 0.1204 - binary_accuracy: 1.0000\n",
      "Epoch 97/100\n",
      "1/1 - 0s - loss: 0.1189 - binary_accuracy: 1.0000\n",
      "Epoch 98/100\n",
      "1/1 - 0s - loss: 0.1174 - binary_accuracy: 1.0000\n",
      "Epoch 99/100\n",
      "1/1 - 0s - loss: 0.1160 - binary_accuracy: 1.0000\n",
      "Epoch 100/100\n",
      "1/1 - 0s - loss: 0.1146 - binary_accuracy: 1.0000\n"
     ]
    },
    {
     "data": {
      "text/plain": [
       "<tensorflow.python.keras.callbacks.History at 0x22c59d70a48>"
      ]
     },
     "execution_count": 167,
     "metadata": {
      "tags": []
     },
     "output_type": "execute_result"
    }
   ],
   "source": [
    "model = tf.keras.Sequential()\n",
    "model.add(tf.keras.layers.Embedding(input_dim=vocab_size+1, output_dim=300, weights=[emb_mat], input_length=max_len, trainable=False))\n",
    "model.add(tf.keras.layers.Flatten())\n",
    "model.add(tf.keras.layers.Dense(1, activation=\"sigmoid\"))\n",
    "\n",
    "model.compile(optimizer=\"adam\", loss=\"binary_crossentropy\", metrics=[\"binary_accuracy\"])\n",
    "\n",
    "model.fit(X_train, y_train, epochs=100, verbose=2)"
   ]
  }
 ],
 "metadata": {
  "colab": {
   "collapsed_sections": [
    "oUJTbLUFAyi6",
    "aQn5Rel6CpqH",
    "HAb1_wXND16i",
    "-x46aeaxC2F7",
    "W8VxrLfOD7ub",
    "ZZxrwxt7EKHp",
    "Hw-6XHdW5_Bx"
   ],
   "name": "Glove.ipynb",
   "provenance": []
  },
  "hide_input": false,
  "kernelspec": {
   "display_name": "Python 3",
   "language": "python",
   "name": "python3"
  },
  "language_info": {
   "codemirror_mode": {
    "name": "ipython",
    "version": 3
   },
   "file_extension": ".py",
   "mimetype": "text/x-python",
   "name": "python",
   "nbconvert_exporter": "python",
   "pygments_lexer": "ipython3",
   "version": "3.8.5"
  },
  "toc": {
   "base_numbering": 1,
   "nav_menu": {},
   "number_sections": true,
   "sideBar": true,
   "skip_h1_title": false,
   "title_cell": "Table of Contents",
   "title_sidebar": "Contents",
   "toc_cell": true,
   "toc_position": {
    "height": "calc(100% - 180px)",
    "left": "10px",
    "top": "150px",
    "width": "191.594px"
   },
   "toc_section_display": true,
   "toc_window_display": false
  },
  "varInspector": {
   "cols": {
    "lenName": 16,
    "lenType": 16,
    "lenVar": 40
   },
   "kernels_config": {
    "python": {
     "delete_cmd_postfix": "",
     "delete_cmd_prefix": "del ",
     "library": "var_list.py",
     "varRefreshCmd": "print(var_dic_list())"
    },
    "r": {
     "delete_cmd_postfix": ") ",
     "delete_cmd_prefix": "rm(",
     "library": "var_list.r",
     "varRefreshCmd": "cat(var_dic_list()) "
    }
   },
   "types_to_exclude": [
    "module",
    "function",
    "builtin_function_or_method",
    "instance",
    "_Feature"
   ],
   "window_display": false
  }
 },
 "nbformat": 4,
 "nbformat_minor": 1
}
