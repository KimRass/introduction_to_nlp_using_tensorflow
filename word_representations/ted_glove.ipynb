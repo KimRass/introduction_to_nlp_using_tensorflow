{
 "cells": [
  {
   "cell_type": "markdown",
   "metadata": {
    "toc": true
   },
   "source": [
    "<h1>Table of Contents<span class=\"tocSkip\"></span></h1>\n",
    "<div class=\"toc\"><ul class=\"toc-item\"></ul></div>"
   ]
  },
  {
   "cell_type": "markdown",
   "metadata": {
    "colab_type": "text",
    "id": "view-in-github"
   },
   "source": [
    "<a href=\"https://colab.research.google.com/github/KimRass/Programming/blob/master/Data%20Science/Machine%20Learning/NLP/Glove.ipynb\" target=\"_parent\"><img src=\"https://colab.research.google.com/assets/colab-badge.svg\" alt=\"Open In Colab\"/></a>"
   ]
  },
  {
   "cell_type": "code",
   "execution_count": 62,
   "metadata": {
    "ExecuteTime": {
     "end_time": "2022-01-23T03:44:39.214073Z",
     "start_time": "2022-01-23T03:44:34.364595Z"
    },
    "colab": {
     "base_uri": "https://localhost:8080/"
    },
    "id": "oNTRDLsF5_A1",
    "outputId": "ee65a7ee-213c-44bb-b134-a22fa77020e6"
   },
   "outputs": [
    {
     "name": "stdout",
     "output_type": "stream",
     "text": [
      "Mounted at /content/drive\n",
      "Failed!\n",
      "[nltk_data] Downloading package punkt to /root/nltk_data...\n",
      "[nltk_data]   Package punkt is already up-to-date!\n"
     ]
    },
    {
     "data": {
      "text/plain": [
       "True"
      ]
     },
     "execution_count": 62,
     "metadata": {},
     "output_type": "execute_result"
    }
   ],
   "source": [
    "from google.colab import drive\n",
    "import os\n",
    "import sys\n",
    "\n",
    "drive.mount(\"/content/drive\", force_remount=True)\n",
    "try:\n",
    "    my_path = \"/content/notebooks\"\n",
    "    os.symlink(\"/content/drive/MyDrive/ColabNotebooks/my_env\", my_path)\n",
    "    sys.path.insert(0, my_path)\n",
    "except:\n",
    "    print(\"Failed!\")\n",
    "os.chdir(\"/content/drive/MyDrive/NLP\")\n",
    "\n",
    "import nltk\n",
    "from glove import Corpus, Glove\n",
    "import urllib\n",
    "from lxml import etree\n",
    "import re\n",
    "from nltk.tokenize import sent_tokenize\n",
    "from nltk.tokenize import word_tokenize\n",
    "from tqdm.auto import tqdm\n",
    "import json\n",
    "\n",
    "nltk.download(\"punkt\")"
   ]
  },
  {
   "cell_type": "code",
   "execution_count": 63,
   "metadata": {
    "id": "EbrlXHVGDa3F"
   },
   "outputs": [],
   "source": [
    "path = \"TED_corpus.json\"\n",
    "if os.path.exists(path):\n",
    "    with open(path, mode=\"r\", encoding=\"utf-8\") as f:\n",
    "        corpus = json.load(f)\n",
    "else:\n",
    "    filename = \"./Datasets/TED/ted_en-20160408.xml\"\n",
    "    if not os.path.exists(filename):\n",
    "        urllib.request.urlretrieve(\"https://raw.githubusercontent.com/GaoleMeng/RNN-and-FFNN-textClassification/master/ted_en-20160408.xml\",\n",
    "                                   filename=filename)\n",
    "    with open(filename, mode=\"r\", encoding=\"utf-8\") as f:\n",
    "        tree = etree.parse(f)\n",
    "        raw_data = \"\\n\".join(tree.xpath(\"//content/text()\"))\n",
    "\n",
    "    raw_data = re.sub(r\"\\([a-zA-Z]+\\)\", \"\", raw_data)\n",
    "    sents = sent_tokenize(raw_data)\n",
    "    corpus = [word_tokenize(i.lower()) for i in tqdm(sents)]\n",
    "    with open(path, mode=\"w\", encoding=\"utf-8\") as f:\n",
    "        json.dump(corpus, fp=f, ensure_ascii=False, indent=\"\\t\")"
   ]
  },
  {
   "cell_type": "code",
   "execution_count": 79,
   "metadata": {
    "colab": {
     "base_uri": "https://localhost:8080/"
    },
    "id": "d1YMJ_RQDCOp",
    "outputId": "829367ea-f598-4e88-ce85-91751fe51305"
   },
   "outputs": [
    {
     "name": "stdout",
     "output_type": "stream",
     "text": [
      "Performing 20 training epochs with 4 threads\n",
      "Epoch 0\n",
      "Epoch 1\n",
      "Epoch 2\n",
      "Epoch 3\n",
      "Epoch 4\n",
      "Epoch 5\n",
      "Epoch 6\n",
      "Epoch 7\n",
      "Epoch 8\n",
      "Epoch 9\n",
      "Epoch 10\n",
      "Epoch 11\n",
      "Epoch 12\n",
      "Epoch 13\n",
      "Epoch 14\n",
      "Epoch 15\n",
      "Epoch 16\n",
      "Epoch 17\n",
      "Epoch 18\n",
      "Epoch 19\n"
     ]
    }
   ],
   "source": [
    "corp = Corpus()\n",
    "# `corpus`로부터 Co-occurence matrix를 생성합니다.\n",
    "corp.fit(corpus, window=5)\n",
    "\n",
    "model = Glove(no_components=100, learning_rate=0.05)\n",
    "model.fit(corp.matrix, epochs=20, no_threads=4, verbose=True)\n",
    "model.add_dictionary(corp.dictionary)\n",
    "\n",
    "# word2idx = corp.dictionary"
   ]
  },
  {
   "cell_type": "code",
   "execution_count": 80,
   "metadata": {
    "colab": {
     "base_uri": "https://localhost:8080/"
    },
    "id": "xxNYSAj5DD-Z",
    "outputId": "fe0846d3-08dd-4654-8232-095b87095417"
   },
   "outputs": [
    {
     "data": {
      "text/plain": [
       "[('fresh', 0.8546484272075149),\n",
       " ('water', 0.8358612409876287),\n",
       " ('air', 0.8033850715634803),\n",
       " ('warm', 0.7949479035666749)]"
      ]
     },
     "execution_count": 80,
     "metadata": {},
     "output_type": "execute_result"
    }
   ],
   "source": [
    "model.most_similar(\"clean\")"
   ]
  }
 ],
 "metadata": {
  "colab": {
   "collapsed_sections": [
    "oUJTbLUFAyi6",
    "aQn5Rel6CpqH",
    "HAb1_wXND16i",
    "-x46aeaxC2F7",
    "W8VxrLfOD7ub",
    "ZZxrwxt7EKHp",
    "Hw-6XHdW5_Bx"
   ],
   "include_colab_link": true,
   "name": "Glove.ipynb",
   "provenance": []
  },
  "hide_input": false,
  "kernelspec": {
   "display_name": "Python 3",
   "language": "python",
   "name": "python3"
  },
  "language_info": {
   "codemirror_mode": {
    "name": "ipython",
    "version": 3
   },
   "file_extension": ".py",
   "mimetype": "text/x-python",
   "name": "python",
   "nbconvert_exporter": "python",
   "pygments_lexer": "ipython3",
   "version": "3.8.5"
  },
  "toc": {
   "base_numbering": 1,
   "nav_menu": {},
   "number_sections": true,
   "sideBar": true,
   "skip_h1_title": false,
   "title_cell": "Table of Contents",
   "title_sidebar": "Contents",
   "toc_cell": true,
   "toc_position": {
    "height": "calc(100% - 180px)",
    "left": "10px",
    "top": "150px",
    "width": "191.594px"
   },
   "toc_section_display": true,
   "toc_window_display": false
  },
  "varInspector": {
   "cols": {
    "lenName": 16,
    "lenType": 16,
    "lenVar": 40
   },
   "kernels_config": {
    "python": {
     "delete_cmd_postfix": "",
     "delete_cmd_prefix": "del ",
     "library": "var_list.py",
     "varRefreshCmd": "print(var_dic_list())"
    },
    "r": {
     "delete_cmd_postfix": ") ",
     "delete_cmd_prefix": "rm(",
     "library": "var_list.r",
     "varRefreshCmd": "cat(var_dic_list()) "
    }
   },
   "types_to_exclude": [
    "module",
    "function",
    "builtin_function_or_method",
    "instance",
    "_Feature"
   ],
   "window_display": false
  }
 },
 "nbformat": 4,
 "nbformat_minor": 1
}
