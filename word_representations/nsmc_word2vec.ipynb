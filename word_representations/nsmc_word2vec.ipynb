{
 "cells": [
  {
   "cell_type": "markdown",
   "metadata": {
    "toc": true
   },
   "source": [
    "<h1>Table of Contents<span class=\"tocSkip\"></span></h1>\n",
    "<div class=\"toc\"><ul class=\"toc-item\"><li><span><a href=\"#Visualization\" data-toc-modified-id=\"Visualization-1\"><span class=\"toc-item-num\">1&nbsp;&nbsp;</span>Visualization</a></span></li></ul></div>"
   ]
  },
  {
   "cell_type": "code",
   "execution_count": 29,
   "metadata": {
    "ExecuteTime": {
     "end_time": "2022-01-25T13:14:04.576015Z",
     "start_time": "2022-01-25T13:14:04.570007Z"
    },
    "id": "oNTRDLsF5_A1",
    "outputId": "96b314bb-8fea-4bf6-ca01-678793e7de3e"
   },
   "outputs": [],
   "source": [
    "from konlpy import *\n",
    "import numpy as np\n",
    "import re\n",
    "import pandas as pd\n",
    "import urllib\n",
    "import json\n",
    "import os\n",
    "import platform\n",
    "from tqdm.notebook import tqdm\n",
    "from lxml import etree\n",
    "import string\n",
    "\n",
    "plt.style.use(\"dark_background\")\n",
    "np.set_printoptions(precision=3)\n",
    "\n",
    "path = \"C:/Windows/Fonts/malgun.ttf\"\n",
    "if platform.system() == \"Darwin\":\n",
    "    mpl.rc(\"font\", family=\"AppleGothic\")\n",
    "elif platform.system() == \"Windows\":\n",
    "    font_name = mpl.font_manager.FontProperties(fname=path).get_name()\n",
    "    mpl.rc('font', family=font_name)\n",
    "    \n",
    "mpl.rc(\"axes\", unicode_minus=False)"
   ]
  },
  {
   "cell_type": "code",
   "execution_count": 31,
   "metadata": {
    "ExecuteTime": {
     "end_time": "2022-01-25T13:27:16.533163Z",
     "start_time": "2022-01-25T13:18:05.487365Z"
    }
   },
   "outputs": [
    {
     "data": {
      "application/vnd.jupyter.widget-view+json": {
       "model_id": "50090d89d90e43ae9a95dcbdeccded99",
       "version_major": 2,
       "version_minor": 0
      },
      "text/plain": [
       "HBox(children=(HTML(value=''), FloatProgress(value=0.0, max=149995.0), HTML(value='')))"
      ]
     },
     "metadata": {},
     "output_type": "display_data"
    },
    {
     "name": "stdout",
     "output_type": "stream",
     "text": [
      "\n"
     ]
    }
   ],
   "source": [
    "path = \"ratings_train_okt_corpus.json\"\n",
    "if os.path.exists(path):\n",
    "    with open(path, mode=\"r\", encoding=\"utf-8\") as f:\n",
    "        corpus = json.load(f)\n",
    "else:\n",
    "    ratings_tr = pd.read_table(\"./Datasets/Naver Sentiment Movie Corpus/ratings_train.txt\")\n",
    "    ratings_tr = ratings_tr.dropna(subset=[\"document\"])\n",
    "\n",
    "    sents = ratings_tr[\"document\"].tolist()\n",
    "    sents = [re.sub(r\"[^ㄱ-ㅎㅏ-ㅣ가-힣 ]\", \" \", i) for i in sents]\n",
    "\n",
    "    okt = Okt()\n",
    "    corpus = [okt.morphs(i, stem=True, norm=True) for i in tqdm(sents)]\n",
    "    with open(path, mode=\"w\", encoding=\"utf-8\") as f:\n",
    "        json.dump(corpus, fp=f, ensure_ascii=False, indent=\"\\t\")"
   ]
  },
  {
   "cell_type": "code",
   "execution_count": 33,
   "metadata": {
    "ExecuteTime": {
     "end_time": "2022-01-25T13:28:31.588828Z",
     "start_time": "2022-01-25T13:28:16.922523Z"
    }
   },
   "outputs": [],
   "source": [
    "filename = \"ratings_train_okt_w2v\"\n",
    "if os.path.exists(filename):\n",
    "    model = gensim.models.KeyedVectors.load_word2vec_format(filename)\n",
    "else:\n",
    "    model = gensim.models.Word2Vec(corpus, vector_size=100, window=5, min_count=5, workers=4, sg=0)\n",
    "    model.wv.save_word2vec_format(filename)"
   ]
  },
  {
   "cell_type": "code",
   "execution_count": 36,
   "metadata": {
    "ExecuteTime": {
     "end_time": "2022-01-25T13:39:56.645345Z",
     "start_time": "2022-01-25T13:39:56.617562Z"
    },
    "id": "o4d4dujh5_BR",
    "outputId": "c149bd77-805a-47ac-db9a-fc1b41f44f27",
    "scrolled": true
   },
   "outputs": [
    {
     "data": {
      "text/plain": [
       "[('중국', 0.8507562875747681),\n",
       " ('일본', 0.8147351145744324),\n",
       " ('조폭', 0.7481272220611572),\n",
       " ('영웅', 0.743746817111969),\n",
       " ('영국', 0.7401779294013977),\n",
       " ('한국', 0.7373713850975037),\n",
       " ('문화', 0.732636034488678),\n",
       " ('헐리우드', 0.7285153269767761),\n",
       " ('일본인', 0.7165097594261169),\n",
       " ('유럽', 0.7122341990470886)]"
      ]
     },
     "execution_count": 36,
     "metadata": {},
     "output_type": "execute_result"
    }
   ],
   "source": [
    "model.wv.most_similar(\"미국\")"
   ]
  },
  {
   "cell_type": "markdown",
   "metadata": {
    "id": "oUJTbLUFAyi6"
   },
   "source": [
    "# Visualization"
   ]
  },
  {
   "cell_type": "code",
   "execution_count": 39,
   "metadata": {
    "ExecuteTime": {
     "end_time": "2022-01-25T13:56:35.940952Z",
     "start_time": "2022-01-25T13:56:35.691546Z"
    }
   },
   "outputs": [
    {
     "name": "stderr",
     "output_type": "stream",
     "text": [
      "C:\\Users\\82104\\anaconda3\\envs\\tf2.3\\python.exe: Error while finding module specification for 'gensim.scripts.word2vec2tensor' (ModuleNotFoundError: No module named 'gensim')\n"
     ]
    }
   ],
   "source": [
    "!python -m gensim.scripts.word2vec2tensor --input ratings_train_okt_w2v --output ratings_train_okt_w2v"
   ]
  },
  {
   "cell_type": "markdown",
   "metadata": {
    "id": "613bRkgLBDAq"
   },
   "source": [
    "- Word2Vec 모델 `rating_train_w2v`이 존재할 때 위 코드를 실행하면 `ratings_train_w2v_tensor.tsv`, `ratings_train_w2v_metadata.tsv`이 생성됩니다.\n",
    "- 다음 페이지에 접속합니다 : https://projector.tensorflow.org/\n",
    "- 위에 있는 Choose file 버튼을 누르고 ted_en_w2v_tensor.tsv 파일을 업로드하고, 아래에 있는 Choose file 버튼을 누르고 ted_en_w2v_metadata.tsv 파일을 업로드합니다. 두 파일을 업로드하면 임베딩 프로젝터에 학습했던 워드 임베딩 모델이 시각화됩니다."
   ]
  }
 ],
 "metadata": {
  "colab": {
   "collapsed_sections": [
    "oUJTbLUFAyi6",
    "aQn5Rel6CpqH",
    "HAb1_wXND16i",
    "-x46aeaxC2F7",
    "W8VxrLfOD7ub",
    "ZZxrwxt7EKHp",
    "Hw-6XHdW5_Bx"
   ],
   "name": "Word Embedding(Word2Vec, FastText, SGNS / TED, NSMC Dataset)",
   "provenance": []
  },
  "hide_input": false,
  "kernelspec": {
   "display_name": "Python 3",
   "language": "python",
   "name": "python3"
  },
  "language_info": {
   "codemirror_mode": {
    "name": "ipython",
    "version": 3
   },
   "file_extension": ".py",
   "mimetype": "text/x-python",
   "name": "python",
   "nbconvert_exporter": "python",
   "pygments_lexer": "ipython3",
   "version": "3.8.5"
  },
  "toc": {
   "base_numbering": 1,
   "nav_menu": {},
   "number_sections": true,
   "sideBar": true,
   "skip_h1_title": false,
   "title_cell": "Table of Contents",
   "title_sidebar": "Contents",
   "toc_cell": true,
   "toc_position": {},
   "toc_section_display": true,
   "toc_window_display": false
  },
  "varInspector": {
   "cols": {
    "lenName": 16,
    "lenType": 16,
    "lenVar": 40
   },
   "kernels_config": {
    "python": {
     "delete_cmd_postfix": "",
     "delete_cmd_prefix": "del ",
     "library": "var_list.py",
     "varRefreshCmd": "print(var_dic_list())"
    },
    "r": {
     "delete_cmd_postfix": ") ",
     "delete_cmd_prefix": "rm(",
     "library": "var_list.r",
     "varRefreshCmd": "cat(var_dic_list()) "
    }
   },
   "types_to_exclude": [
    "module",
    "function",
    "builtin_function_or_method",
    "instance",
    "_Feature"
   ],
   "window_display": false
  }
 },
 "nbformat": 4,
 "nbformat_minor": 1
}
