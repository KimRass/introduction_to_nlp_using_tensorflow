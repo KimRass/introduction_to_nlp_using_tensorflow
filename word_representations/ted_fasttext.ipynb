{
 "cells": [
  {
   "cell_type": "code",
   "execution_count": 2,
   "metadata": {
    "ExecuteTime": {
     "end_time": "2022-01-25T13:26:20.704510Z",
     "start_time": "2022-01-25T13:26:12.740148Z"
    },
    "id": "oNTRDLsF5_A1",
    "outputId": "96b314bb-8fea-4bf6-ca01-678793e7de3e"
   },
   "outputs": [
    {
     "name": "stderr",
     "output_type": "stream",
     "text": [
      "[nltk_data] Downloading package punkt to\n",
      "[nltk_data]     C:\\Users\\82104\\AppData\\Roaming\\nltk_data...\n",
      "[nltk_data]   Package punkt is already up-to-date!\n",
      "[nltk_data] Downloading package stopwords to\n",
      "[nltk_data]     C:\\Users\\82104\\AppData\\Roaming\\nltk_data...\n",
      "[nltk_data]   Package stopwords is already up-to-date!\n",
      "[nltk_data] Downloading package wordnet to\n",
      "[nltk_data]     C:\\Users\\82104\\AppData\\Roaming\\nltk_data...\n",
      "[nltk_data]   Package wordnet is already up-to-date!\n"
     ]
    }
   ],
   "source": [
    "import nltk\n",
    "from nltk.corpus import stopwords\n",
    "import gensim\n",
    "import numpy as np\n",
    "import re\n",
    "import pandas as pd\n",
    "import urllib\n",
    "import json\n",
    "import os\n",
    "import platform\n",
    "from tqdm.notebook import tqdm\n",
    "from lxml import etree\n",
    "import zipfile\n",
    "\n",
    "plt.style.use(\"dark_background\")\n",
    "np.set_printoptions(precision=3)\n",
    "\n",
    "nltk.download(\"punkt\")\n",
    "nltk.download(\"stopwords\")\n",
    "nltk.download(\"wordnet\")\n",
    "\n",
    "path = \"C:/Windows/Fonts/malgun.ttf\"\n",
    "if platform.system() == \"Darwin\":\n",
    "    mpl.rc(\"font\", family=\"AppleGothic\")\n",
    "elif platform.system() == \"Windows\":\n",
    "    font_name = mpl.font_manager.FontProperties(fname=path).get_name()\n",
    "    mpl.rc('font', family=font_name)\n",
    "    \n",
    "mpl.rc(\"axes\", unicode_minus=False)"
   ]
  },
  {
   "cell_type": "code",
   "execution_count": 3,
   "metadata": {
    "ExecuteTime": {
     "end_time": "2022-01-25T13:26:23.033450Z",
     "start_time": "2022-01-25T13:26:20.738725Z"
    }
   },
   "outputs": [],
   "source": [
    "path = \"TED_corpus.json\"\n",
    "if os.path.exists(path):\n",
    "    with open(path, \"r\", encoding=\"utf-8\") as f:\n",
    "        corpus = json.load(f)\n",
    "else:\n",
    "    filename = \"./Datasets/TED/TED-20160408.xml\"\n",
    "    if not os.path.exists(filename):\n",
    "        urllib.request.urlretrieve(\"https://raw.githubusercontent.com/\\\n",
    "        GaoleMeng/RNN-and-FFNN-textClassification/master/TED-20160408.xml\", filename=filename)\n",
    "    with open(filename, mode=\"r\", encoding=\"utf-8\") as f:\n",
    "        tree = etree.parse(f)\n",
    "        raw_data = \"\\n\".join(tree.xpath(\"//content/text()\"))\n",
    "\n",
    "    raw_data = re.sub(r\"\\([a-zA-Z]+\\)\", \"\", raw_data)\n",
    "    sents = sent_tokenize(raw_data)\n",
    "    corpus = [word_tokenize(i.lower()) for i in tqdm(sents)]\n",
    "    with open(path, mode=\"w\", encoding=\"utf-8\") as f:\n",
    "        json.dump(corpus, fp=f, ensure_ascii=False, indent=\"\\t\")"
   ]
  },
  {
   "cell_type": "code",
   "execution_count": 51,
   "metadata": {
    "ExecuteTime": {
     "end_time": "2022-01-25T14:06:18.423013Z",
     "start_time": "2022-01-25T14:06:14.185818Z"
    }
   },
   "outputs": [],
   "source": [
    "filename = \"TED_fasttext\"\n",
    "if os.path.exists(filename):\n",
    "    pass\n",
    "    model = gensim.models.FastText.load(filename)\n",
    "else:\n",
    "    model = gensim.models.FastText(corpus, vector_size=100, window=5, min_count=5, workers=4, sg=1)\n",
    "    model.save(filename)"
   ]
  },
  {
   "cell_type": "markdown",
   "metadata": {},
   "source": [
    "# OOV Problem"
   ]
  },
  {
   "cell_type": "code",
   "execution_count": 38,
   "metadata": {
    "ExecuteTime": {
     "end_time": "2022-01-25T13:53:26.343520Z",
     "start_time": "2022-01-25T13:53:26.319525Z"
    },
    "colab": {
     "base_uri": "https://localhost:8080/",
     "height": 285
    },
    "id": "t4jUsgykCEcu",
    "outputId": "2df6f0b2-7528-44fc-889d-5f073c1263ae"
   },
   "outputs": [
    {
     "data": {
      "text/plain": [
       "[('memo', 0.8142862319946289),\n",
       " ('memoir', 0.7529463171958923),\n",
       " ('memory', 0.7492874264717102),\n",
       " ('memorize', 0.7492014169692993),\n",
       " ('emory', 0.7469430565834045),\n",
       " ('rehearse', 0.7463557720184326),\n",
       " ('nostalgic', 0.7380493879318237),\n",
       " ('forgery', 0.7378150820732117),\n",
       " ('complaint', 0.7357825636863708),\n",
       " ('nemo', 0.7345239520072937)]"
      ]
     },
     "execution_count": 38,
     "metadata": {},
     "output_type": "execute_result"
    }
   ],
   "source": [
    "model.wv.most_similar(\"memorry\")"
   ]
  }
 ],
 "metadata": {
  "colab": {
   "collapsed_sections": [
    "oUJTbLUFAyi6",
    "aQn5Rel6CpqH",
    "HAb1_wXND16i",
    "-x46aeaxC2F7",
    "W8VxrLfOD7ub",
    "ZZxrwxt7EKHp",
    "Hw-6XHdW5_Bx"
   ],
   "name": "Word Embedding(Word2Vec, FastText, SGNS / TED, NSMC Dataset)",
   "provenance": []
  },
  "hide_input": false,
  "kernelspec": {
   "display_name": "Python 3",
   "language": "python",
   "name": "python3"
  },
  "language_info": {
   "codemirror_mode": {
    "name": "ipython",
    "version": 3
   },
   "file_extension": ".py",
   "mimetype": "text/x-python",
   "name": "python",
   "nbconvert_exporter": "python",
   "pygments_lexer": "ipython3",
   "version": "3.8.5"
  },
  "toc": {
   "base_numbering": 1,
   "nav_menu": {},
   "number_sections": true,
   "sideBar": true,
   "skip_h1_title": false,
   "title_cell": "Table of Contents",
   "title_sidebar": "Contents",
   "toc_cell": false,
   "toc_position": {},
   "toc_section_display": true,
   "toc_window_display": false
  },
  "varInspector": {
   "cols": {
    "lenName": 16,
    "lenType": 16,
    "lenVar": 40
   },
   "kernels_config": {
    "python": {
     "delete_cmd_postfix": "",
     "delete_cmd_prefix": "del ",
     "library": "var_list.py",
     "varRefreshCmd": "print(var_dic_list())"
    },
    "r": {
     "delete_cmd_postfix": ") ",
     "delete_cmd_prefix": "rm(",
     "library": "var_list.r",
     "varRefreshCmd": "cat(var_dic_list()) "
    }
   },
   "types_to_exclude": [
    "module",
    "function",
    "builtin_function_or_method",
    "instance",
    "_Feature"
   ],
   "window_display": false
  }
 },
 "nbformat": 4,
 "nbformat_minor": 1
}
