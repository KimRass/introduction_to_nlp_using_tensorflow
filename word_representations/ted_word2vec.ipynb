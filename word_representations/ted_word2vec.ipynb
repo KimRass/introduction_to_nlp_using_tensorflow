{
 "cells": [
  {
   "cell_type": "markdown",
   "metadata": {
    "toc": true
   },
   "source": [
    "<h1>Table of Contents<span class=\"tocSkip\"></span></h1>\n",
    "<div class=\"toc\"><ul class=\"toc-item\"></ul></div>"
   ]
  },
  {
   "cell_type": "code",
   "execution_count": 1,
   "metadata": {
    "ExecuteTime": {
     "end_time": "2022-01-26T11:06:00.234474Z",
     "start_time": "2022-01-26T11:05:56.608467Z"
    },
    "id": "oNTRDLsF5_A1",
    "outputId": "96b314bb-8fea-4bf6-ca01-678793e7de3e"
   },
   "outputs": [
    {
     "name": "stderr",
     "output_type": "stream",
     "text": [
      "[nltk_data] Downloading package punkt to\n",
      "[nltk_data]     C:\\Users\\82104\\AppData\\Roaming\\nltk_data...\n",
      "[nltk_data]   Package punkt is already up-to-date!\n",
      "[nltk_data] Downloading package stopwords to\n",
      "[nltk_data]     C:\\Users\\82104\\AppData\\Roaming\\nltk_data...\n",
      "[nltk_data]   Package stopwords is already up-to-date!\n",
      "[nltk_data] Downloading package wordnet to\n",
      "[nltk_data]     C:\\Users\\82104\\AppData\\Roaming\\nltk_data...\n",
      "[nltk_data]   Package wordnet is already up-to-date!\n"
     ]
    },
    {
     "data": {
      "text/plain": [
       "True"
      ]
     },
     "execution_count": 1,
     "metadata": {},
     "output_type": "execute_result"
    }
   ],
   "source": [
    "import nltk\n",
    "from nltk.corpus import stopwords\n",
    "from nltk.tokenize import sent_tokenize\n",
    "from nltk.tokenize import word_tokenize\n",
    "import gensim\n",
    "import numpy as np\n",
    "import re\n",
    "import pandas as pd\n",
    "import urllib\n",
    "import json\n",
    "import os\n",
    "import platform\n",
    "from tqdm.notebook import tqdm\n",
    "from lxml import etree\n",
    "\n",
    "nltk.download(\"punkt\")\n",
    "nltk.download(\"stopwords\")\n",
    "nltk.download(\"wordnet\")"
   ]
  },
  {
   "cell_type": "code",
   "execution_count": 2,
   "metadata": {
    "ExecuteTime": {
     "end_time": "2022-01-26T11:06:01.668630Z",
     "start_time": "2022-01-26T11:06:00.250102Z"
    },
    "id": "jPcv2Xqf5_BJ"
   },
   "outputs": [],
   "source": [
    "path = \"TED_corpus.json\"\n",
    "if os.path.exists(path):\n",
    "    with open(path, \"r\", encoding=\"utf-8\") as f:\n",
    "        corpus = json.load(f)\n",
    "else:\n",
    "    filename = \"./Datasets/TED/ted_en-20160408.xml\"\n",
    "    if not os.path.exists(filename):\n",
    "        urllib.request.urlretrieve(\"https://raw.githubusercontent.com/\\\n",
    "        GaoleMeng/RNN-and-FFNN-textClassification/master/TED-20160408.xml\", filename=filename)\n",
    "    with open(filename, mode=\"r\", encoding=\"utf-8\") as f:\n",
    "        tree = etree.parse(f)\n",
    "        raw_data = \"\\n\".join(tree.xpath(\"//content/text()\"))\n",
    "\n",
    "    raw_data = re.sub(r\"\\([a-zA-Z]+\\)\", \"\", raw_data)\n",
    "    sents = sent_tokenize(raw_data)\n",
    "    corpus = [word_tokenize(i.lower()) for i in tqdm(sents)]\n",
    "    with open(path, mode=\"w\", encoding=\"utf-8\") as f:\n",
    "        json.dump(corpus, fp=f, ensure_ascii=False, indent=\"\\t\")"
   ]
  },
  {
   "cell_type": "code",
   "execution_count": 26,
   "metadata": {
    "ExecuteTime": {
     "end_time": "2022-01-25T11:36:06.839895Z",
     "start_time": "2022-01-25T11:35:52.187921Z"
    }
   },
   "outputs": [],
   "source": [
    "filename = \"TED_w2v\"\n",
    "if os.path.exists(filename):\n",
    "    model = gensim.models.KeyedVectors.load_word2vec_format(filename)\n",
    "else:\n",
    "    model = gensim.models.Word2Vec(corpus, vector_size=100, window=5, min_count=5, workers=4, sg=0)\n",
    "    model.wv.save_word2vec_format(filename)"
   ]
  },
  {
   "cell_type": "code",
   "execution_count": 27,
   "metadata": {
    "ExecuteTime": {
     "end_time": "2022-01-25T11:43:18.940363Z",
     "start_time": "2022-01-25T11:43:18.899637Z"
    },
    "colab": {
     "base_uri": "https://localhost:8080/",
     "height": 90
    },
    "id": "9l30rPFTAIF9",
    "outputId": "31a44dc2-5b80-457b-9b28-a03b01289a89"
   },
   "outputs": [
    {
     "data": {
      "text/plain": [
       "[('woman', 0.8702654242515564),\n",
       " ('lady', 0.7804245948791504),\n",
       " ('guy', 0.7735037803649902),\n",
       " ('soldier', 0.7619998455047607),\n",
       " ('boy', 0.757533073425293),\n",
       " ('girl', 0.7505010962486267),\n",
       " ('gentleman', 0.7440814971923828),\n",
       " ('kid', 0.6976348161697388),\n",
       " ('david', 0.6905225515365601),\n",
       " ('poet', 0.6682325601577759)]"
      ]
     },
     "execution_count": 27,
     "metadata": {},
     "output_type": "execute_result"
    }
   ],
   "source": [
    "model.wv.most_similar(\"man\")"
   ]
  }
 ],
 "metadata": {
  "colab": {
   "collapsed_sections": [
    "oUJTbLUFAyi6",
    "aQn5Rel6CpqH",
    "HAb1_wXND16i",
    "-x46aeaxC2F7",
    "W8VxrLfOD7ub",
    "ZZxrwxt7EKHp",
    "Hw-6XHdW5_Bx"
   ],
   "name": "Word Embedding(Word2Vec, FastText, SGNS / TED, NSMC Dataset)",
   "provenance": []
  },
  "hide_input": false,
  "kernelspec": {
   "display_name": "Python 3",
   "language": "python",
   "name": "python3"
  },
  "language_info": {
   "codemirror_mode": {
    "name": "ipython",
    "version": 3
   },
   "file_extension": ".py",
   "mimetype": "text/x-python",
   "name": "python",
   "nbconvert_exporter": "python",
   "pygments_lexer": "ipython3",
   "version": "3.8.5"
  },
  "toc": {
   "base_numbering": 1,
   "nav_menu": {},
   "number_sections": true,
   "sideBar": true,
   "skip_h1_title": false,
   "title_cell": "Table of Contents",
   "title_sidebar": "Contents",
   "toc_cell": true,
   "toc_position": {},
   "toc_section_display": true,
   "toc_window_display": false
  },
  "varInspector": {
   "cols": {
    "lenName": 16,
    "lenType": 16,
    "lenVar": 40
   },
   "kernels_config": {
    "python": {
     "delete_cmd_postfix": "",
     "delete_cmd_prefix": "del ",
     "library": "var_list.py",
     "varRefreshCmd": "print(var_dic_list())"
    },
    "r": {
     "delete_cmd_postfix": ") ",
     "delete_cmd_prefix": "rm(",
     "library": "var_list.r",
     "varRefreshCmd": "cat(var_dic_list()) "
    }
   },
   "types_to_exclude": [
    "module",
    "function",
    "builtin_function_or_method",
    "instance",
    "_Feature"
   ],
   "window_display": false
  }
 },
 "nbformat": 4,
 "nbformat_minor": 1
}
