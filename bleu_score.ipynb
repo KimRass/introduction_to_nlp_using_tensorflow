{
 "cells": [
  {
   "cell_type": "markdown",
   "metadata": {
    "toc": true
   },
   "source": [
    "<h1>Table of Contents<span class=\"tocSkip\"></span></h1>\n",
    "<div class=\"toc\"><ul class=\"toc-item\"><li><span><a href=\"#Implementation\" data-toc-modified-id=\"Implementation-1\"><span class=\"toc-item-num\">1&nbsp;&nbsp;</span>Implementation</a></span><ul class=\"toc-item\"><li><span><a href=\"#N-Gram-Precision\" data-toc-modified-id=\"N-Gram-Precision-1.1\"><span class=\"toc-item-num\">1.1&nbsp;&nbsp;</span>N-Gram Precision</a></span></li><li><span><a href=\"#Modified-N-Gram-Precision\" data-toc-modified-id=\"Modified-N-Gram-Precision-1.2\"><span class=\"toc-item-num\">1.2&nbsp;&nbsp;</span>Modified N-Gram Precision</a></span></li><li><span><a href=\"#BLEU-Score\" data-toc-modified-id=\"BLEU-Score-1.3\"><span class=\"toc-item-num\">1.3&nbsp;&nbsp;</span>BLEU Score</a></span></li></ul></li><li><span><a href=\"#Using-sentence_bleu()\" data-toc-modified-id=\"Using-sentence_bleu()-2\"><span class=\"toc-item-num\">2&nbsp;&nbsp;</span>Using <code>sentence_bleu()</code></a></span></li><li><span><a href=\"#Using-corpus_bleu()\" data-toc-modified-id=\"Using-corpus_bleu()-3\"><span class=\"toc-item-num\">3&nbsp;&nbsp;</span>Using <code>corpus_bleu()</code></a></span></li></ul></div>"
   ]
  },
  {
   "cell_type": "code",
   "execution_count": 1,
   "metadata": {
    "ExecuteTime": {
     "end_time": "2022-01-20T13:23:23.430567Z",
     "start_time": "2022-01-20T13:23:22.047065Z"
    },
    "id": "kb9QnE3_0iw-"
   },
   "outputs": [],
   "source": [
    "import nltk\n",
    "from nltk.translate.bleu_score import corpus_bleu\n",
    "from nltk.translate.bleu_score import sentence_bleu\n",
    "import numpy as np\n",
    "from collections import Counter"
   ]
  },
  {
   "cell_type": "code",
   "execution_count": 2,
   "metadata": {
    "ExecuteTime": {
     "end_time": "2022-01-20T13:23:23.446449Z",
     "start_time": "2022-01-20T13:23:23.433448Z"
    }
   },
   "outputs": [],
   "source": [
    "refs = [\"It is the guiding principle which guarantees the military forces always being under the command of the party on\", \"It is a guide to action that ensures that the military will forever heed party commands\", \"It is the practical guide for the army always to heed the directions of the party\"]\n",
    "cand = \"It is a guide to action which ensures that the military always obeys the commands of the party\"\n",
    "\n",
    "refs = [i.split() for i in refs]\n",
    "cand = cand.split()"
   ]
  },
  {
   "cell_type": "markdown",
   "metadata": {
    "id": "k7BhqvQ6xLTi"
   },
   "source": [
    "# Implementation"
   ]
  },
  {
   "cell_type": "markdown",
   "metadata": {
    "id": "KoNmktwjxieM"
   },
   "source": [
    "## N-Gram Precision"
   ]
  },
  {
   "cell_type": "code",
   "execution_count": 3,
   "metadata": {
    "ExecuteTime": {
     "end_time": "2022-01-20T13:23:23.462483Z",
     "start_time": "2022-01-20T13:23:23.450446Z"
    },
    "id": "i_zjPuyW0ixC"
   },
   "outputs": [],
   "source": [
    "def count_ngram(cand, n):\n",
    "    return Counter(nltk.ngrams(cand, n))\n",
    "\n",
    "def ngram_precision(refs, cand, n):\n",
    "    counter_refs = Counter()\n",
    "    for ref in refs:\n",
    "        counter_refs += count_ngram(ref, n)\n",
    "    \n",
    "    ngrams_cand = count_ngram(cand, n)\n",
    "    tot_cnt = 0\n",
    "    for ngram, cnt in ngrams_cand.items():\n",
    "        if ngram in counter_refs:\n",
    "            tot_cnt += cnt \n",
    "    return tot_cnt/len(cand) - n + 1"
   ]
  },
  {
   "cell_type": "markdown",
   "metadata": {
    "id": "uSXUjRrN0ixE"
   },
   "source": [
    "## Modified N-Gram Precision"
   ]
  },
  {
   "cell_type": "code",
   "execution_count": 4,
   "metadata": {
    "ExecuteTime": {
     "end_time": "2022-01-20T13:23:23.478496Z",
     "start_time": "2022-01-20T13:23:23.465478Z"
    },
    "id": "6vz7FgLi0ixE"
   },
   "outputs": [],
   "source": [
    "def max_ref_count(ngram, refs, n):\n",
    "    maxim = 0\n",
    "    for ref in refs:\n",
    "        ngram2cnt_ref = count_ngram(ref, n)\n",
    "        if ngram2cnt_ref[ngram] > maxim:\n",
    "            maxim = ngram2cnt_ref[ngram]\n",
    "    return maxim\n",
    "\n",
    "def count_clip(ngram, cand, refs, n):\n",
    "    return min(count_ngram(cand, n)[ngram], max_ref_count(ngram, refs, n))\n",
    "\n",
    "def modified_ngram_precision(refs, cand, n):\n",
    "    sum_count_clip = 0\n",
    "    for ngram, cnt in count_ngram(cand, n).items():\n",
    "        sum_count_clip += count_clip(ngram, cand, refs, n)\n",
    "    return sum_count_clip/(len(cand) - n + 1)"
   ]
  },
  {
   "cell_type": "code",
   "execution_count": 5,
   "metadata": {
    "ExecuteTime": {
     "end_time": "2022-01-20T13:23:23.494564Z",
     "start_time": "2022-01-20T13:23:23.479480Z"
    },
    "id": "4PiWATOk0ixH",
    "outputId": "c9ceba5c-33b0-45c0-96c5-17b8d026db46"
   },
   "outputs": [],
   "source": [
    "# cand = \"the the the the the the the\"\n",
    "# print(ngram_precision(cand.split(\" \"), refs, 1))\n",
    "# print(modified_ngram_precision(cand.split(\" \"), refs, 1))"
   ]
  },
  {
   "cell_type": "markdown",
   "metadata": {
    "id": "rgsirDfSkpEF"
   },
   "source": [
    "## BLEU Score"
   ]
  },
  {
   "cell_type": "code",
   "execution_count": 6,
   "metadata": {
    "ExecuteTime": {
     "end_time": "2022-01-20T13:23:23.510567Z",
     "start_time": "2022-01-20T13:23:23.496444Z"
    },
    "id": "RQUUVtYXkhET"
   },
   "outputs": [],
   "source": [
    "def best_match_length(refs, cand):\n",
    "    ref_lens = [len(ref) for ref in refs]\n",
    "    return min(ref_lens, key=lambda x:(abs(x - len(cand)), x))\n",
    "\n",
    "def brevity_penalty(refs, cand):\n",
    "    c = len(cand)\n",
    "    r = best_match_length(refs, cand)\n",
    "\n",
    "    if c == 0:\n",
    "        return 0\n",
    "    else:\n",
    "        if c <= r:\n",
    "            return np.exp(1 - r/c)\n",
    "        else:\n",
    "            return 1\n",
    "\n",
    "def bleu_score(refs, cand, weights=[0.25, 0.25, 0.25, 0.25]):\n",
    "    ps = [modified_ngram_precision(refs, cand, n=k + 1) for k, _ in enumerate(weights)]\n",
    "    score = sum([w*np.log(p) if p != 0 else 0 for w, p in zip(weights, ps)])\n",
    "    return brevity_penalty(refs, cand)*np.exp(score)"
   ]
  },
  {
   "cell_type": "code",
   "execution_count": 7,
   "metadata": {
    "ExecuteTime": {
     "end_time": "2022-01-20T13:23:23.526445Z",
     "start_time": "2022-01-20T13:23:23.512454Z"
    }
   },
   "outputs": [
    {
     "name": "stdout",
     "output_type": "stream",
     "text": [
      "0.47729963243022017\n"
     ]
    }
   ],
   "source": [
    "print(bleu_score(refs, cand))"
   ]
  },
  {
   "cell_type": "markdown",
   "metadata": {},
   "source": [
    "# Using `sentence_bleu()`"
   ]
  },
  {
   "cell_type": "code",
   "execution_count": 8,
   "metadata": {
    "ExecuteTime": {
     "end_time": "2022-01-20T13:23:23.542567Z",
     "start_time": "2022-01-20T13:23:23.528446Z"
    }
   },
   "outputs": [
    {
     "name": "stdout",
     "output_type": "stream",
     "text": [
      "0.47729963243022017\n"
     ]
    }
   ],
   "source": [
    "score = sentence_bleu(refs, cand)\n",
    "print(score)"
   ]
  },
  {
   "cell_type": "markdown",
   "metadata": {},
   "source": [
    "# Using `corpus_bleu()`"
   ]
  },
  {
   "cell_type": "code",
   "execution_count": 9,
   "metadata": {
    "ExecuteTime": {
     "end_time": "2022-01-20T13:23:23.558483Z",
     "start_time": "2022-01-20T13:23:23.544485Z"
    }
   },
   "outputs": [
    {
     "name": "stdout",
     "output_type": "stream",
     "text": [
      "0.47729963243022017\n"
     ]
    }
   ],
   "source": [
    "score = corpus_bleu([refs], [cand])\n",
    "print(score)"
   ]
  }
 ],
 "metadata": {
  "accelerator": "GPU",
  "colab": {
   "collapsed_sections": [],
   "machine_shape": "hm",
   "name": "BLEU(BiLingual Evaluation Understudy) Score",
   "provenance": [],
   "toc_visible": true
  },
  "hide_input": false,
  "kernelspec": {
   "display_name": "Python 3",
   "language": "python",
   "name": "python3"
  },
  "language_info": {
   "codemirror_mode": {
    "name": "ipython",
    "version": 3
   },
   "file_extension": ".py",
   "mimetype": "text/x-python",
   "name": "python",
   "nbconvert_exporter": "python",
   "pygments_lexer": "ipython3",
   "version": "3.8.5"
  },
  "toc": {
   "base_numbering": 1,
   "nav_menu": {},
   "number_sections": true,
   "sideBar": true,
   "skip_h1_title": false,
   "title_cell": "Table of Contents",
   "title_sidebar": "Contents",
   "toc_cell": true,
   "toc_position": {},
   "toc_section_display": true,
   "toc_window_display": false
  },
  "varInspector": {
   "cols": {
    "lenName": 16,
    "lenType": 16,
    "lenVar": 40
   },
   "kernels_config": {
    "python": {
     "delete_cmd_postfix": "",
     "delete_cmd_prefix": "del ",
     "library": "var_list.py",
     "varRefreshCmd": "print(var_dic_list())"
    },
    "r": {
     "delete_cmd_postfix": ") ",
     "delete_cmd_prefix": "rm(",
     "library": "var_list.r",
     "varRefreshCmd": "cat(var_dic_list()) "
    }
   },
   "types_to_exclude": [
    "module",
    "function",
    "builtin_function_or_method",
    "instance",
    "_Feature"
   ],
   "window_display": false
  }
 },
 "nbformat": 4,
 "nbformat_minor": 1
}
