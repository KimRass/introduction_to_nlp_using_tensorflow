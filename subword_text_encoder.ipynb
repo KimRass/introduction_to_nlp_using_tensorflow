{
 "cells": [
  {
   "cell_type": "code",
   "execution_count": 4,
   "metadata": {
    "ExecuteTime": {
     "end_time": "2022-01-18T15:22:23.166737Z",
     "start_time": "2022-01-18T15:22:23.157787Z"
    }
   },
   "outputs": [],
   "source": [
    "import tensorflow_datasets as tfds\n",
    "import seaborn as sb\n",
    "import pandas as pd"
   ]
  },
  {
   "cell_type": "code",
   "execution_count": 5,
   "metadata": {
    "ExecuteTime": {
     "end_time": "2022-01-18T15:22:23.637066Z",
     "start_time": "2022-01-18T15:22:23.167740Z"
    },
    "id": "TMlQZPMRk0aA"
   },
   "outputs": [],
   "source": [
    "ratings_tr = pd.read_table(\"D:/Github/Programming/Data Science/Machine Learning/Natural Language Preprocessing/Datasets/Naver Sentiment Movie Corpus/ratings_train.txt\")\n",
    "ratings_te = pd.read_table(\"D:/Github/Programming/Data Science/Machine Learning/Natural Language Preprocessing/Datasets/Naver Sentiment Movie Corpus/ratings_test.txt\")\n",
    "\n",
    "ratings_tr = ratings_tr.dropna(subset=[\"document\"])\n",
    "ratings_te = ratings_te.dropna(subset=[\"document\"])"
   ]
  },
  {
   "cell_type": "code",
   "execution_count": 6,
   "metadata": {
    "ExecuteTime": {
     "end_time": "2022-01-18T15:27:44.517552Z",
     "start_time": "2022-01-18T15:22:23.637066Z"
    },
    "id": "SPEVl90ak6Hv"
   },
   "outputs": [],
   "source": [
    "enc = tfds.deprecated.text.SubwordTextEncoder.build_from_corpus(ratings_tr[\"document\"], target_vocab_size=2**15)"
   ]
  },
  {
   "cell_type": "code",
   "execution_count": 7,
   "metadata": {
    "ExecuteTime": {
     "end_time": "2022-01-18T15:27:44.547458Z",
     "start_time": "2022-01-18T15:27:44.517552Z"
    },
    "colab": {
     "base_uri": "https://localhost:8080/",
     "height": 54
    },
    "id": "OuASxRDwk7K5",
    "outputId": "294cbf0a-c254-4b7c-ebdf-02902db19a2f"
   },
   "outputs": [
    {
     "name": "stdout",
     "output_type": "stream",
     "text": [
      "len(enc.subwords) : 32616\n",
      "['. ', '..', '...', '영화', ', ', '이_', '의_', '.. ', '는_', '너무_', '정말_', '도_', '다', '을_', '고_', '가_', '영화_', '... ', '진짜_', '은_', '에_', '? ', '를_', '다_', '한_', '게_', '....', '만_', '그냥_', '이런_', '왜_', '더_', '수_', '과_', '고', '서_', '보고_', '좀_', '! ', '영화를_', '로_', '요', '지', '지_', '잘_', '와_', 'ㅋㅋ', '그_', '으로_', '영화는_', '영화가_', '나_', '본_', '!!', '하는_', '없는_', '최고의_', '아', '면_', '내가_', '있는_', '없다', '음', '네', '하고_', 'ㅋ', '이건_', '가', '봤는데_', '완전_', '이렇게_', '나', '평점_', '그리고_', '내_', '이거_', '좋은_', '보다_', '이게_', '~ ', '보는_', '이', '네요', '드라마', '에서_', '것_', '아_', '평점이_', '난_', '다시_', '최고', '같은_', '할_', '참_', '역시_', '듯', '도', 'ㅠㅠ', '지만_', '많이_']\n"
     ]
    }
   ],
   "source": [
    "print(f\"len(enc.subwords) : {len(enc.subwords)}\")\n",
    "print(enc.subwords[:100])"
   ]
  },
  {
   "cell_type": "code",
   "execution_count": 8,
   "metadata": {
    "ExecuteTime": {
     "end_time": "2022-01-18T15:27:44.562926Z",
     "start_time": "2022-01-18T15:27:44.547458Z"
    },
    "id": "XGZIGT7dvxuy",
    "outputId": "6982650f-63bc-48f3-c496-5eb9c9ec5347"
   },
   "outputs": [
    {
     "name": "stdout",
     "output_type": "stream",
     "text": [
      "이 영화 굉장히 재밌다 킄핫핫ㅎ\n",
      "[6, 17, 741, 1192, 32854, 32747, 32749, 8200, 8200, 203]\n",
      "    6 ----> 이 \n",
      "   17 ----> 영화 \n",
      "  741 ----> 굉장히 \n",
      " 1192 ----> 재밌다 \n",
      "32854 ----> �\n",
      "32747 ----> �\n",
      "32749 ----> �\n",
      " 8200 ----> 핫\n",
      " 8200 ----> 핫\n",
      "  203 ----> ㅎ\n"
     ]
    }
   ],
   "source": [
    "print(\"이 영화 굉장히 재밌다 킄핫핫ㅎ\")\n",
    "print(enc.encode(\"이 영화 굉장히 재밌다 킄핫핫ㅎ\"))\n",
    "for subw in enc.encode(\"이 영화 굉장히 재밌다 킄핫핫ㅎ\"):\n",
    "    print(f\"{subw:5d} ----> {enc.decode([subw])}\")"
   ]
  }
 ],
 "metadata": {
  "accelerator": "GPU",
  "colab": {
   "collapsed_sections": [],
   "machine_shape": "hm",
   "name": "Subword Tokenizer(SubwordTextEncoder, sentencepiece / IMDb, Naver Movie Review Dataset).ipynb",
   "provenance": [],
   "toc_visible": true
  },
  "hide_input": false,
  "kernelspec": {
   "display_name": "Python 3",
   "language": "python",
   "name": "python3"
  },
  "language_info": {
   "codemirror_mode": {
    "name": "ipython",
    "version": 3
   },
   "file_extension": ".py",
   "mimetype": "text/x-python",
   "name": "python",
   "nbconvert_exporter": "python",
   "pygments_lexer": "ipython3",
   "version": "3.8.5"
  },
  "toc": {
   "base_numbering": 1,
   "nav_menu": {},
   "number_sections": true,
   "sideBar": true,
   "skip_h1_title": false,
   "title_cell": "Table of Contents",
   "title_sidebar": "Contents",
   "toc_cell": false,
   "toc_position": {},
   "toc_section_display": true,
   "toc_window_display": false
  },
  "varInspector": {
   "cols": {
    "lenName": 16,
    "lenType": 16,
    "lenVar": 40
   },
   "kernels_config": {
    "python": {
     "delete_cmd_postfix": "",
     "delete_cmd_prefix": "del ",
     "library": "var_list.py",
     "varRefreshCmd": "print(var_dic_list())"
    },
    "r": {
     "delete_cmd_postfix": ") ",
     "delete_cmd_prefix": "rm(",
     "library": "var_list.r",
     "varRefreshCmd": "cat(var_dic_list()) "
    }
   },
   "types_to_exclude": [
    "module",
    "function",
    "builtin_function_or_method",
    "instance",
    "_Feature"
   ],
   "window_display": false
  }
 },
 "nbformat": 4,
 "nbformat_minor": 1
}
