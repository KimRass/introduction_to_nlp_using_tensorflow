{
 "cells": [
  {
   "cell_type": "markdown",
   "metadata": {
    "toc": true
   },
   "source": [
    "<h1>Table of Contents<span class=\"tocSkip\"></span></h1>\n",
    "<div class=\"toc\"><ul class=\"toc-item\"><li><span><a href=\"#Using-Pre-Traiend-Word-Embedding-(GloVe)\" data-toc-modified-id=\"Using-Pre-Traiend-Word-Embedding-(GloVe)-1\"><span class=\"toc-item-num\">1&nbsp;&nbsp;</span>Using Pre-Traiend Word Embedding (GloVe)</a></span></li><li><span><a href=\"#Modeling\" data-toc-modified-id=\"Modeling-2\"><span class=\"toc-item-num\">2&nbsp;&nbsp;</span>Modeling</a></span></li><li><span><a href=\"#Model-Evaluation\" data-toc-modified-id=\"Model-Evaluation-3\"><span class=\"toc-item-num\">3&nbsp;&nbsp;</span>Model Evaluation</a></span></li></ul></div>"
   ]
  },
  {
   "cell_type": "code",
   "execution_count": 1,
   "metadata": {
    "ExecuteTime": {
     "end_time": "2022-01-23T09:14:54.607038Z",
     "start_time": "2022-01-23T09:14:49.098727Z"
    },
    "id": "x_h_cwnezpzv",
    "outputId": "adec0209-9e01-4c09-d183-2549137335b2"
   },
   "outputs": [
    {
     "name": "stderr",
     "output_type": "stream",
     "text": [
      "C:\\Users\\82104\\anaconda3\\lib\\site-packages\\tqdm\\std.py:697: FutureWarning: The Panel class is removed from pandas. Accessing it from the top-level namespace will also be removed in the next version\n",
      "  from pandas import Panel\n"
     ]
    }
   ],
   "source": [
    "import pandas as pd\n",
    "import numpy as np\n",
    "import tensorflow as tf\n",
    "from tensorflow.keras import Input, Model, Sequential\n",
    "from tensorflow.keras.utils import to_categorical\n",
    "from tensorflow.keras.preprocessing import image_dataset_from_directory\n",
    "from tensorflow.keras.preprocessing.sequence import pad_sequences\n",
    "from tensorflow.keras.preprocessing.text import Tokenizer\n",
    "from tensorflow.keras.preprocessing.image import load_img, img_to_array, ImageDataGenerator\n",
    "from tensorflow.keras.layers import Layer, Dense, Flatten, Dropout, Concatenate, Add, Dot, Multiply, Reshape, Activation, BatchNormalization, SimpleRNNCell, RNN, SimpleRNN, LSTM, Embedding, Bidirectional, TimeDistributed, Conv1D, Conv2D, MaxPool1D, MaxPool2D, GlobalMaxPool1D, GlobalMaxPool2D, AveragePooling1D, AveragePooling2D, GlobalAveragePooling1D, GlobalAveragePooling2D, ZeroPadding2D\n",
    "from tensorflow.keras.optimizers import SGD, Adam, Adagrad\n",
    "from tensorflow.keras.metrics import MeanSquaredError, RootMeanSquaredError, MeanAbsoluteError, MeanAbsolutePercentageError, BinaryCrossentropy, CategoricalCrossentropy, SparseCategoricalCrossentropy, CosineSimilarity\n",
    "from tensorflow.keras.layers.experimental.preprocessing import Rescaling\n",
    "from tensorflow.keras.callbacks import EarlyStopping, ModelCheckpoint\n",
    "from tensorflow.keras.activations import linear, sigmoid, relu\n",
    "from tensorflow.keras.initializers import RandomNormal, glorot_uniform, he_uniform, Constant\n",
    "from tensorflow.keras.models import load_model\n",
    "import urllib.request\n",
    "import matplotlib as mpl\n",
    "import matplotlib.pyplot as plt\n",
    "import seaborn as sb\n",
    "import string\n",
    "from tqdm.notebook import tqdm\n",
    "from sklearn.model_selection import train_test_split\n",
    "from sklearn.metrics import classification_report\n",
    "import random\n",
    "import zipfile\n",
    "import sklearn\n",
    "import os\n",
    "\n",
    "tqdm.pandas()\n",
    "plt.style.use(\"dark_background\")"
   ]
  },
  {
   "cell_type": "code",
   "execution_count": 2,
   "metadata": {
    "ExecuteTime": {
     "end_time": "2022-01-23T09:15:02.739251Z",
     "start_time": "2022-01-23T09:14:58.818514Z"
    },
    "id": "eIWTydHbLMJw"
   },
   "outputs": [],
   "source": [
    "urllib.request.urlretrieve(\"https://github.com/ajinkyaT/CNN_Intent_Classification/raw/master/data/train_text.npy\", filename=\"./Datasets/NLU Benchmark/train_text.npy\")\n",
    "urllib.request.urlretrieve(\"https://github.com/ajinkyaT/CNN_Intent_Classification/raw/master/data/train_label.npy\", filename=\"./Datasets/NLU Benchmark/train_label.npy\")\n",
    "urllib.request.urlretrieve(\"https://github.com/ajinkyaT/CNN_Intent_Classification/raw/master/data/test_text.npy\", filename=\"./Datasets/NLU Benchmark/test_text.npy\")\n",
    "urllib.request.urlretrieve(\"https://github.com/ajinkyaT/CNN_Intent_Classification/raw/master/data/test_label.npy\", filename=\"./Datasets/NLU Benchmark/test_label.npy\")\n",
    "\n",
    "train_text = np.load(\"./Datasets/NLU Benchmark/train_text.npy\", allow_pickle=True).tolist()\n",
    "train_label = np.load(\"./Datasets/NLU Benchmark/train_label.npy\", allow_pickle=True).tolist()\n",
    "test_text = np.load(\"./Datasets/NLU Benchmark/test_text.npy\", allow_pickle=True).tolist()\n",
    "test_label = np.load(\"./Datasets/NLU Benchmark/test_label.npy\", allow_pickle=True).tolist()"
   ]
  },
  {
   "cell_type": "code",
   "execution_count": 3,
   "metadata": {
    "ExecuteTime": {
     "end_time": "2022-01-23T09:15:02.946857Z",
     "start_time": "2022-01-23T09:15:02.739251Z"
    },
    "id": "hhJoFnT7zpz3",
    "outputId": "c2c5aa65-2b44-4e2c-84f3-998e668d76d3"
   },
   "outputs": [
    {
     "data": {
      "image/png": "[encoded data removed]",
      "text/plain": [
       "<Figure size 432x288 with 1 Axes>"
      ]
     },
     "metadata": {},
     "output_type": "display_data"
    }
   ],
   "source": [
    "fig, ax = plt.subplots()\n",
    "sb.countplot(ax=ax, y=train_label);"
   ]
  },
  {
   "cell_type": "code",
   "execution_count": 4,
   "metadata": {
    "ExecuteTime": {
     "end_time": "2022-01-23T09:15:03.122774Z",
     "start_time": "2022-01-23T09:15:02.946857Z"
    },
    "id": "CFxW6-9szpz5"
   },
   "outputs": [
    {
     "name": "stdout",
     "output_type": "stream",
     "text": [
      "8,765개의 단어로 전체 data의 99%를 표현할 수 있습니다.\n",
      "9,869개의 단어 중 88.8%에 해당합니다.\n"
     ]
    }
   ],
   "source": [
    "tokenizer = Tokenizer()\n",
    "tokenizer.fit_on_texts(train_text)\n",
    "word2idx = tokenizer.word_index\n",
    "cnts = sorted(tokenizer.word_counts.values(), reverse=True)\n",
    "ratio = 0.99\n",
    "for vocab_size, value in enumerate(np.cumsum(cnts)/np.sum(cnts)):\n",
    "    if value >= ratio:\n",
    "        break\n",
    "print(f\"{vocab_size:,}개의 단어로 전체 data의 {ratio:.0%}를 표현할 수 있습니다.\")\n",
    "print(f\"{len(word2idx):,}개의 단어 중 {vocab_size/len(word2idx):.1%}에 해당합니다.\")"
   ]
  },
  {
   "cell_type": "code",
   "execution_count": 5,
   "metadata": {
    "ExecuteTime": {
     "end_time": "2022-01-23T09:15:03.524798Z",
     "start_time": "2022-01-23T09:15:03.124734Z"
    },
    "id": "9LTRBsxvzpz8",
    "outputId": "01b5bebd-2e06-46c1-cc46-9befc142a809"
   },
   "outputs": [
    {
     "name": "stdout",
     "output_type": "stream",
     "text": [
      "길이가 가장 긴 문장의 길이는 35이고 길이가 19 이하인 문장이 전체의 99%를 차지합니다.\n"
     ]
    }
   ],
   "source": [
    "tokenizer = Tokenizer(num_words=vocab_size + 2, oov_token=\"UNK\")\n",
    "tokenizer.fit_on_texts(train_text)\n",
    "word2idx = tokenizer.word_index\n",
    "word2cnt = dict(sorted(tokenizer.word_counts.items(), key=lambda x:x[1], reverse=True))\n",
    "\n",
    "X_tr = tokenizer.texts_to_sequences(train_text)\n",
    "X_te = tokenizer.texts_to_sequences(test_text)\n",
    "\n",
    "lens = sorted([len(doc) for doc in X_tr])\n",
    "ratio = 0.99\n",
    "max_len = int(np.quantile(lens, 0.99))\n",
    "print(f\"길이가 가장 긴 문장의 길이는 {np.max(lens)}이고 길이가 {max_len} 이하인 문장이 전체의 {ratio:.0%}를 차지합니다.\")\n",
    "\n",
    "X_tr = pad_sequences(X_tr, maxlen=max_len)\n",
    "X_te = pad_sequences(X_te, maxlen=max_len)"
   ]
  },
  {
   "cell_type": "code",
   "execution_count": 6,
   "metadata": {
    "ExecuteTime": {
     "end_time": "2022-01-23T09:15:03.556953Z",
     "start_time": "2022-01-23T09:15:03.524798Z"
    },
    "id": "9LTRBsxvzpz8",
    "outputId": "01b5bebd-2e06-46c1-cc46-9befc142a809"
   },
   "outputs": [],
   "source": [
    "enc = sklearn.preprocessing.LabelEncoder()\n",
    "enc.fit(train_label)\n",
    "train_label = enc.transform(train_label)\n",
    "test_label = enc.transform(test_label)\n",
    "\n",
    "X_tr, X_val, y_tr, y_val = train_test_split(X_tr, train_label, test_size=0.8, shuffle=True, random_state=3213)"
   ]
  },
  {
   "cell_type": "markdown",
   "metadata": {
    "id": "Z9Iv4ttBKNUK"
   },
   "source": [
    "# Using Pre-Traiend Word Embedding (GloVe)"
   ]
  },
  {
   "cell_type": "code",
   "execution_count": 7,
   "metadata": {
    "ExecuteTime": {
     "end_time": "2022-01-23T09:15:14.750773Z",
     "start_time": "2022-01-23T09:15:03.556953Z"
    }
   },
   "outputs": [
    {
     "data": {
      "application/vnd.jupyter.widget-view+json": {
       "model_id": "e126658e0cea426fa050176682bda933",
       "version_major": 2,
       "version_minor": 0
      },
      "text/plain": [
       "HBox(children=(HTML(value=''), FloatProgress(value=1.0, bar_style='info', layout=Layout(width='20px'), max=1.0…"
      ]
     },
     "metadata": {},
     "output_type": "display_data"
    },
    {
     "name": "stdout",
     "output_type": "stream",
     "text": [
      "\n"
     ]
    }
   ],
   "source": [
    "source: \"http://nlp.stanford.edu/data/glove.6B.zip\"\n",
    "file_name = \"D:/glove.6B.zip\"\n",
    "if not os.path.exists(file_name):\n",
    "    urllib.request.urlretrieve(source, filename=file_name)\n",
    "file_name = \"D:/glove.6B.100d.txt\"\n",
    "if not os.path.exists(file_name):\n",
    "    zipfile.ZipFile(file_name).extractall(path=\"D:/\")\n",
    "\n",
    "token2vec = dict()\n",
    "with open(file_name, mode=\"r\", encoding=\"utf-8\") as f:\n",
    "    for line in tqdm(f):\n",
    "        line = line.split()\n",
    "        word = line[0]\n",
    "        emb_vec = np.array(line[1:], dtype=\"float32\")\n",
    "        token2vec[word] = emb_vec\n",
    "    f.close()\n",
    "\n",
    "emb_dim = 100\n",
    "emb_mat = np.zeros(shape=(vocab_size + 2, emb_dim))\n",
    "for word, idx in word2idx.items():\n",
    "    try:\n",
    "        emb_mat[idx] = token2vec[word]\n",
    "    except:\n",
    "        continue"
   ]
  },
  {
   "cell_type": "markdown",
   "metadata": {
    "id": "DCKs_VLNKNUT"
   },
   "source": [
    "# Modeling"
   ]
  },
  {
   "cell_type": "code",
   "execution_count": 15,
   "metadata": {
    "ExecuteTime": {
     "end_time": "2022-01-23T09:23:15.731244Z",
     "start_time": "2022-01-23T09:22:33.244550Z"
    },
    "id": "lmeeiXmecey5"
   },
   "outputs": [
    {
     "name": "stdout",
     "output_type": "stream",
     "text": [
      "Model: \"model\"\n",
      "__________________________________________________________________________________________________\n",
      " Layer (type)                   Output Shape         Param #     Connected to                     \n",
      "==================================================================================================\n",
      " input_1 (InputLayer)           [(None, 19)]         0           []                               \n",
      "                                                                                                  \n",
      " embedding (Embedding)          (None, 19, 100)      876700      ['input_1[0][0]']                \n",
      "                                                                                                  \n",
      " conv1d (Conv1D)                (None, 18, 512)      102912      ['embedding[0][0]']              \n",
      "                                                                                                  \n",
      " conv1d_1 (Conv1D)              (None, 17, 512)      154112      ['embedding[0][0]']              \n",
      "                                                                                                  \n",
      " conv1d_2 (Conv1D)              (None, 16, 512)      205312      ['embedding[0][0]']              \n",
      "                                                                                                  \n",
      " global_max_pooling1d (GlobalMa  (None, 512)         0           ['conv1d[0][0]']                 \n",
      " xPooling1D)                                                                                      \n",
      "                                                                                                  \n",
      " global_max_pooling1d_1 (Global  (None, 512)         0           ['conv1d_1[0][0]']               \n",
      " MaxPooling1D)                                                                                    \n",
      "                                                                                                  \n",
      " global_max_pooling1d_2 (Global  (None, 512)         0           ['conv1d_2[0][0]']               \n",
      " MaxPooling1D)                                                                                    \n",
      "                                                                                                  \n",
      " concatenate (Concatenate)      (None, 1536)         0           ['global_max_pooling1d[0][0]',   \n",
      "                                                                  'global_max_pooling1d_1[0][0]', \n",
      "                                                                  'global_max_pooling1d_2[0][0]'] \n",
      "                                                                                                  \n",
      " dropout (Dropout)              (None, 1536)         0           ['concatenate[0][0]']            \n",
      "                                                                                                  \n",
      " dense (Dense)                  (None, 6)            9222        ['dropout[0][0]']                \n",
      "                                                                                                  \n",
      "==================================================================================================\n",
      "Total params: 1,348,258\n",
      "Trainable params: 1,348,258\n",
      "Non-trainable params: 0\n",
      "__________________________________________________________________________________________________\n",
      "Epoch 1/32\n",
      "15/15 [==============================] - ETA: 0s - loss: 0.9068 - acc: 0.6990\n",
      "Epoch 00001: val_acc improved from -inf to 0.93008, saving model to .\\nlu_benchmark_glove_100d_1dCNN.h5\n",
      "15/15 [==============================] - 2s 112ms/step - loss: 0.9068 - acc: 0.6990 - val_loss: 0.2626 - val_acc: 0.9301\n",
      "Epoch 2/32\n",
      "15/15 [==============================] - ETA: 0s - loss: 0.1678 - acc: 0.9538\n",
      "Epoch 00002: val_acc improved from 0.93008 to 0.96822, saving model to .\\nlu_benchmark_glove_100d_1dCNN.h5\n",
      "15/15 [==============================] - 1s 95ms/step - loss: 0.1678 - acc: 0.9538 - val_loss: 0.1388 - val_acc: 0.9682\n",
      "Epoch 3/32\n",
      "15/15 [==============================] - ETA: 0s - loss: 0.0829 - acc: 0.9814\n",
      "Epoch 00003: val_acc improved from 0.96822 to 0.97034, saving model to .\\nlu_benchmark_glove_100d_1dCNN.h5\n",
      "15/15 [==============================] - 2s 101ms/step - loss: 0.0829 - acc: 0.9814 - val_loss: 0.1074 - val_acc: 0.9703\n",
      "Epoch 4/32\n",
      "15/15 [==============================] - ETA: 0s - loss: 0.0527 - acc: 0.9883\n",
      "Epoch 00004: val_acc improved from 0.97034 to 0.97246, saving model to .\\nlu_benchmark_glove_100d_1dCNN.h5\n",
      "15/15 [==============================] - 2s 99ms/step - loss: 0.0527 - acc: 0.9883 - val_loss: 0.0927 - val_acc: 0.9725\n",
      "Epoch 5/32\n",
      "15/15 [==============================] - ETA: 0s - loss: 0.0390 - acc: 0.9963\n",
      "Epoch 00005: val_acc improved from 0.97246 to 0.97458, saving model to .\\nlu_benchmark_glove_100d_1dCNN.h5\n",
      "15/15 [==============================] - 2s 102ms/step - loss: 0.0390 - acc: 0.9963 - val_loss: 0.0882 - val_acc: 0.9746\n",
      "Epoch 6/32\n",
      "15/15 [==============================] - ETA: 0s - loss: 0.0265 - acc: 0.9973\n",
      "Epoch 00006: val_acc did not improve from 0.97458\n",
      "15/15 [==============================] - 1s 98ms/step - loss: 0.0265 - acc: 0.9973 - val_loss: 0.0823 - val_acc: 0.9746\n",
      "Epoch 7/32\n",
      "15/15 [==============================] - ETA: 0s - loss: 0.0214 - acc: 0.9973\n",
      "Epoch 00007: val_acc improved from 0.97458 to 0.97881, saving model to .\\nlu_benchmark_glove_100d_1dCNN.h5\n",
      "15/15 [==============================] - 2s 99ms/step - loss: 0.0214 - acc: 0.9973 - val_loss: 0.0771 - val_acc: 0.9788\n",
      "Epoch 8/32\n",
      "15/15 [==============================] - ETA: 0s - loss: 0.0161 - acc: 0.9984\n",
      "Epoch 00008: val_acc did not improve from 0.97881\n",
      "15/15 [==============================] - 1s 95ms/step - loss: 0.0161 - acc: 0.9984 - val_loss: 0.0759 - val_acc: 0.9746\n",
      "Epoch 9/32\n",
      "15/15 [==============================] - ETA: 0s - loss: 0.0139 - acc: 0.9984\n",
      "Epoch 00009: val_acc improved from 0.97881 to 0.98305, saving model to .\\nlu_benchmark_glove_100d_1dCNN.h5\n",
      "15/15 [==============================] - 2s 103ms/step - loss: 0.0139 - acc: 0.9984 - val_loss: 0.0677 - val_acc: 0.9831\n",
      "Epoch 10/32\n",
      "15/15 [==============================] - ETA: 0s - loss: 0.0102 - acc: 0.9989\n",
      "Epoch 00010: val_acc did not improve from 0.98305\n",
      "15/15 [==============================] - 1s 95ms/step - loss: 0.0102 - acc: 0.9989 - val_loss: 0.0674 - val_acc: 0.9809\n",
      "Epoch 11/32\n",
      "15/15 [==============================] - ETA: 0s - loss: 0.0088 - acc: 0.9995\n",
      "Epoch 00011: val_acc did not improve from 0.98305\n",
      "15/15 [==============================] - 1s 92ms/step - loss: 0.0088 - acc: 0.9995 - val_loss: 0.0650 - val_acc: 0.9831\n",
      "Epoch 12/32\n",
      "15/15 [==============================] - ETA: 0s - loss: 0.0074 - acc: 1.0000\n",
      "Epoch 00012: val_acc did not improve from 0.98305\n",
      "15/15 [==============================] - 1s 90ms/step - loss: 0.0074 - acc: 1.0000 - val_loss: 0.0648 - val_acc: 0.9788\n",
      "Epoch 13/32\n",
      "15/15 [==============================] - ETA: 0s - loss: 0.0057 - acc: 1.0000\n",
      "Epoch 00013: val_acc improved from 0.98305 to 0.98517, saving model to .\\nlu_benchmark_glove_100d_1dCNN.h5\n",
      "15/15 [==============================] - 1s 95ms/step - loss: 0.0057 - acc: 1.0000 - val_loss: 0.0620 - val_acc: 0.9852\n",
      "Epoch 14/32\n",
      "15/15 [==============================] - ETA: 0s - loss: 0.0053 - acc: 0.9995\n",
      "Epoch 00014: val_acc did not improve from 0.98517\n",
      "15/15 [==============================] - 1s 90ms/step - loss: 0.0053 - acc: 0.9995 - val_loss: 0.0621 - val_acc: 0.9788\n",
      "Epoch 15/32\n",
      "15/15 [==============================] - ETA: 0s - loss: 0.0042 - acc: 1.0000\n",
      "Epoch 00015: val_acc did not improve from 0.98517\n",
      "15/15 [==============================] - 1s 90ms/step - loss: 0.0042 - acc: 1.0000 - val_loss: 0.0611 - val_acc: 0.9852\n",
      "Epoch 16/32\n",
      "15/15 [==============================] - ETA: 0s - loss: 0.0038 - acc: 1.0000\n",
      "Epoch 00016: val_acc did not improve from 0.98517\n",
      "15/15 [==============================] - 1s 90ms/step - loss: 0.0038 - acc: 1.0000 - val_loss: 0.0606 - val_acc: 0.9809\n",
      "Epoch 17/32\n",
      "15/15 [==============================] - ETA: 0s - loss: 0.0034 - acc: 1.0000- ETA: 0s - loss: 0.0033 - \n",
      "Epoch 00017: val_acc did not improve from 0.98517\n",
      "15/15 [==============================] - 1s 92ms/step - loss: 0.0034 - acc: 1.0000 - val_loss: 0.0596 - val_acc: 0.9852\n",
      "Epoch 18/32\n"
     ]
    },
    {
     "name": "stdout",
     "output_type": "stream",
     "text": [
      "15/15 [==============================] - ETA: 0s - loss: 0.0031 - acc: 1.0000\n",
      "Epoch 00018: val_acc did not improve from 0.98517\n",
      "15/15 [==============================] - 1s 89ms/step - loss: 0.0031 - acc: 1.0000 - val_loss: 0.0599 - val_acc: 0.9831\n",
      "Epoch 19/32\n",
      "15/15 [==============================] - ETA: 0s - loss: 0.0029 - acc: 1.0000\n",
      "Epoch 00019: val_acc did not improve from 0.98517\n",
      "15/15 [==============================] - 1s 90ms/step - loss: 0.0029 - acc: 1.0000 - val_loss: 0.0587 - val_acc: 0.9852\n",
      "Epoch 20/32\n",
      "15/15 [==============================] - ETA: 0s - loss: 0.0029 - acc: 1.0000- ETA: 0s - loss: 0.0028 - acc:\n",
      "Epoch 00020: val_acc did not improve from 0.98517\n",
      "15/15 [==============================] - 1s 88ms/step - loss: 0.0029 - acc: 1.0000 - val_loss: 0.0591 - val_acc: 0.9831\n",
      "Epoch 21/32\n",
      "15/15 [==============================] - ETA: 0s - loss: 0.0023 - acc: 1.0000\n",
      "Epoch 00021: val_acc did not improve from 0.98517\n",
      "15/15 [==============================] - 1s 86ms/step - loss: 0.0023 - acc: 1.0000 - val_loss: 0.0586 - val_acc: 0.9852\n",
      "Epoch 22/32\n",
      "15/15 [==============================] - ETA: 0s - loss: 0.0024 - acc: 1.0000\n",
      "Epoch 00022: val_acc did not improve from 0.98517\n",
      "15/15 [==============================] - 1s 87ms/step - loss: 0.0024 - acc: 1.0000 - val_loss: 0.0582 - val_acc: 0.9852\n",
      "Epoch 23/32\n",
      "15/15 [==============================] - ETA: 0s - loss: 0.0021 - acc: 1.0000\n",
      "Epoch 00023: val_acc did not improve from 0.98517\n",
      "15/15 [==============================] - 1s 88ms/step - loss: 0.0021 - acc: 1.0000 - val_loss: 0.0586 - val_acc: 0.9831\n",
      "Epoch 24/32\n",
      "15/15 [==============================] - ETA: 0s - loss: 0.0017 - acc: 1.0000\n",
      "Epoch 00024: val_acc did not improve from 0.98517\n",
      "15/15 [==============================] - 1s 88ms/step - loss: 0.0017 - acc: 1.0000 - val_loss: 0.0578 - val_acc: 0.9852\n",
      "Epoch 25/32\n",
      "15/15 [==============================] - ETA: 0s - loss: 0.0018 - acc: 1.0000\n",
      "Epoch 00025: val_acc did not improve from 0.98517\n",
      "15/15 [==============================] - 1s 88ms/step - loss: 0.0018 - acc: 1.0000 - val_loss: 0.0581 - val_acc: 0.9852\n",
      "Epoch 26/32\n",
      "15/15 [==============================] - ETA: 0s - loss: 0.0014 - acc: 1.0000\n",
      "Epoch 00026: val_acc did not improve from 0.98517\n",
      "15/15 [==============================] - 1s 89ms/step - loss: 0.0014 - acc: 1.0000 - val_loss: 0.0573 - val_acc: 0.9852\n",
      "Epoch 27/32\n",
      "15/15 [==============================] - ETA: 0s - loss: 0.0017 - acc: 1.0000\n",
      "Epoch 00027: val_acc did not improve from 0.98517\n",
      "15/15 [==============================] - 1s 89ms/step - loss: 0.0017 - acc: 1.0000 - val_loss: 0.0568 - val_acc: 0.9852\n",
      "Epoch 28/32\n",
      "15/15 [==============================] - ETA: 0s - loss: 0.0015 - acc: 1.0000\n",
      "Epoch 00028: val_acc did not improve from 0.98517\n",
      "15/15 [==============================] - 1s 89ms/step - loss: 0.0015 - acc: 1.0000 - val_loss: 0.0571 - val_acc: 0.9852\n",
      "Epoch 29/32\n",
      "15/15 [==============================] - ETA: 0s - loss: 0.0013 - acc: 1.0000\n",
      "Epoch 00029: val_acc did not improve from 0.98517\n",
      "15/15 [==============================] - 1s 89ms/step - loss: 0.0013 - acc: 1.0000 - val_loss: 0.0571 - val_acc: 0.9852\n",
      "Epoch 30/32\n",
      "15/15 [==============================] - ETA: 0s - loss: 0.0013 - acc: 1.0000\n",
      "Epoch 00030: val_acc did not improve from 0.98517\n",
      "15/15 [==============================] - 1s 89ms/step - loss: 0.0013 - acc: 1.0000 - val_loss: 0.0572 - val_acc: 0.9852\n",
      "Epoch 00030: early stopping\n"
     ]
    }
   ],
   "source": [
    "name = \"./nlu_benchmark_glove_100d_1dCNN\"\n",
    "model_path = f\"{name}.h5\"\n",
    "hist_path = f\"{name}_hist.npy\"\n",
    "if os.path.exists(model_path):\n",
    "    model = load_model(model_path)\n",
    "    hist = np.load(hist_path, allow_pickle=\"TRUE\").item()\n",
    "else:\n",
    "    kernel_sizes = [2, 3, 4]\n",
    "    n_filters = 512\n",
    "    rate = 0.5\n",
    "\n",
    "    # (batch_size, max_len)\n",
    "    inputs = Input(shape=(max_len,))\n",
    "    # (batch_size, max_len, emb_dim)\n",
    "    z = Embedding(input_dim=vocab_size + 2, output_dim=emb_dim, mask_zero=True, weights=[emb_mat], trainable=True)(inputs)\n",
    "    conv_blocks = list()\n",
    "    for kernel_size in kernel_sizes:\n",
    "        # Filter: (kernel_size, emb_dim)\n",
    "        # Output: (batch_size, max_len - kernel_size + 1, n_filters)\n",
    "        z2 = Conv1D(filters=n_filters, kernel_size=kernel_size, strides=1, padding=\"valid\", activation=\"relu\")(z)\n",
    "        # (batch_size, n_filters)\n",
    "        z2 = GlobalMaxPool1D()(z2)\n",
    "#         z2 = Flatten()(z2)\n",
    "        conv_blocks.append(z2)\n",
    "    z3 = Concatenate(axis=1)(conv_blocks)\n",
    "    z3 = Dropout(rate=rate)(z3)\n",
    "    outputs = Dense(units=len(enc.classes_), activation=\"softmax\")(z3)\n",
    "    model = Model(inputs=inputs, outputs=outputs)\n",
    "\n",
    "    model.compile(loss=\"sparse_categorical_crossentropy\", optimizer=\"adam\", metrics=[\"acc\"])\n",
    "    model.summary()\n",
    "\n",
    "    es = EarlyStopping(monitor=\"val_loss\", mode=\"auto\", verbose=1, patience=3)\n",
    "    mc = ModelCheckpoint(filepath=model_path, monitor=\"val_acc\", mode=\"auto\", verbose=1, save_best_only=True)\n",
    "    hist = model.fit(x=X_tr, y=y_tr, validation_split=0.2, batch_size=128, epochs=32, verbose=1, shuffle=True, callbacks=[es, mc])\n",
    "    \n",
    "    np.save(hist_path, hist.history)"
   ]
  },
  {
   "cell_type": "code",
   "execution_count": 16,
   "metadata": {
    "ExecuteTime": {
     "end_time": "2022-01-23T09:23:16.049629Z",
     "start_time": "2022-01-23T09:23:15.731244Z"
    }
   },
   "outputs": [
    {
     "data": {
      "image/png": "[encoded data removed]",
      "text/plain": [
       "<Figure size 864x576 with 2 Axes>"
      ]
     },
     "metadata": {},
     "output_type": "display_data"
    }
   ],
   "source": [
    "fig, axes = plt.subplots(1, 2, figsize=(12, 8))\n",
    "axes[0].plot(hist.history[\"loss\"][1:], label=\"loss\");\n",
    "axes[0].plot(hist.history[\"val_loss\"][1:], label=\"val_loss\");\n",
    "axes[0].legend();\n",
    "\n",
    "axes[1].plot(hist.history[\"acc\"][1:], label=\"acc\");\n",
    "axes[1].plot(hist.history[\"val_acc\"][1:], label=\"val_acc\");\n",
    "axes[1].legend();"
   ]
  },
  {
   "cell_type": "markdown",
   "metadata": {
    "id": "fEjZ_MxlKNUd"
   },
   "source": [
    "# Model Evaluation"
   ]
  },
  {
   "cell_type": "code",
   "execution_count": 14,
   "metadata": {
    "ExecuteTime": {
     "end_time": "2022-01-23T09:16:42.300600Z",
     "start_time": "2022-01-23T09:16:42.131867Z"
    },
    "id": "yrCaAPCOKNUe"
   },
   "outputs": [
    {
     "name": "stdout",
     "output_type": "stream",
     "text": [
      "tf.Tensor(0.985, shape=(), dtype=float32)\n",
      "              precision    recall  f1-score   support\n",
      "\n",
      "           0       1.00      1.00      1.00       100\n",
      "           1       0.99      1.00      0.99        99\n",
      "           2       1.00      0.99      1.00       101\n",
      "           3       0.99      1.00      0.99        99\n",
      "           4       1.00      0.93      0.96       108\n",
      "           5       0.93      1.00      0.96        93\n",
      "\n",
      "    accuracy                           0.98       600\n",
      "   macro avg       0.98      0.99      0.99       600\n",
      "weighted avg       0.99      0.98      0.98       600\n",
      "\n"
     ]
    }
   ],
   "source": [
    "y_pred = tf.math.argmax(model.predict(X_te), axis=1)\n",
    "\n",
    "acc = tf.math.reduce_mean(tf.cast(y_pred==test_label, dtype=tf.float32))\n",
    "print(acc)\n",
    "print(classification_report(y_pred, test_label))"
   ]
  }
 ],
 "metadata": {
  "accelerator": "GPU",
  "anaconda-cloud": {},
  "colab": {
   "collapsed_sections": [
    "DCKs_VLNKNUT",
    "fEjZ_MxlKNUd",
    "kBNu4A72zp0I",
    "gnixuDjl5SfB",
    "0lSLahfb5WEA",
    "zu1sKSNp5ZgD",
    "4s26rEWE5bnJ",
    "Fm0EDwNe5gDP",
    "1_Xr6-i65kFc",
    "7A_Pg1R65mcC"
   ],
   "machine_shape": "hm",
   "name": "Intent Classification(LSTM, CNN / )",
   "provenance": [],
   "toc_visible": true
  },
  "hide_input": false,
  "kernelspec": {
   "display_name": "Python 3",
   "language": "python",
   "name": "python3"
  },
  "language_info": {
   "codemirror_mode": {
    "name": "ipython",
    "version": 3
   },
   "file_extension": ".py",
   "mimetype": "text/x-python",
   "name": "python",
   "nbconvert_exporter": "python",
   "pygments_lexer": "ipython3",
   "version": "3.8.5"
  },
  "toc": {
   "base_numbering": 1,
   "nav_menu": {},
   "number_sections": true,
   "sideBar": true,
   "skip_h1_title": false,
   "title_cell": "Table of Contents",
   "title_sidebar": "Contents",
   "toc_cell": true,
   "toc_position": {},
   "toc_section_display": true,
   "toc_window_display": false
  },
  "varInspector": {
   "cols": {
    "lenName": 16,
    "lenType": 16,
    "lenVar": 40
   },
   "kernels_config": {
    "python": {
     "delete_cmd_postfix": "",
     "delete_cmd_prefix": "del ",
     "library": "var_list.py",
     "varRefreshCmd": "print(var_dic_list())"
    },
    "r": {
     "delete_cmd_postfix": ") ",
     "delete_cmd_prefix": "rm(",
     "library": "var_list.r",
     "varRefreshCmd": "cat(var_dic_list()) "
    }
   },
   "types_to_exclude": [
    "module",
    "function",
    "builtin_function_or_method",
    "instance",
    "_Feature"
   ],
   "window_display": false
  }
 },
 "nbformat": 4,
 "nbformat_minor": 1
}
